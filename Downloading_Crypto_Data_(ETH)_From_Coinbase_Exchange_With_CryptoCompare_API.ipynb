{
  "cells": [
    {
      "cell_type": "markdown",
      "source": [
        "## Introduction \n",
        "The main objective of this experiment is downloading crypto data (ETH) from Coinbase exchange, using CryptoCompare API.  Few additional analytical charts for ETH will be displayed later on.\n",
        "\n",
        "## References and thanks to\n",
        "- \"Cryptocurrency Analysis with Python — MACD\" (Part 1) by Roman Orac at the following [link;](https://towardsdatascience.com/cryptocurrency-analysis-with-python-macd-452ceb251d7c)\n",
        "- \"Cryptocurrency Analysis with Python — Buy And Hold\" (Part 2) by Roman Orac at the following [link](https://towardsdatascience.com/cryptocurrency-analysis-with-python-buy-and-hold-c3b0bc164ffa);\n",
        "- CryptoCompare API Documentation is available at [this link](https://min-api.cryptocompare.com/documentation);"
      ],
      "metadata": {
        "id": "yzEy2xhrH-kr"
      }
    },
    {
      "cell_type": "markdown",
      "source": [
        "## Setup"
      ],
      "metadata": {
        "id": "-KoEpgvNcaHp"
      }
    },
    {
      "cell_type": "code",
      "source": [
        "from google.colab import drive\n",
        "drive.mount('/content/drive')"
      ],
      "metadata": {
        "colab": {
          "base_uri": "https://localhost:8080/"
        },
        "id": "9gaMiGo966J9",
        "outputId": "b56fff3b-be04-4f4e-c58f-ad7ef5947f8d"
      },
      "execution_count": null,
      "outputs": [
        {
          "output_type": "stream",
          "name": "stdout",
          "text": [
            "Drive already mounted at /content/drive; to attempt to forcibly remount, call drive.mount(\"/content/drive\", force_remount=True).\n"
          ]
        }
      ]
    },
    {
      "cell_type": "code",
      "source": [
        "import pandas as pd\n",
        "import requests\n",
        "from datetime import datetime"
      ],
      "metadata": {
        "id": "SbF012kIaNm3"
      },
      "execution_count": null,
      "outputs": []
    },
    {
      "cell_type": "code",
      "execution_count": null,
      "metadata": {
        "id": "gRwQHltR_wbY"
      },
      "outputs": [],
      "source": [
        "from_symbol = 'ETH'\n",
        "to_symbol = 'USD'\n",
        "exchange = 'Coinbase'\n",
        "datetime_interval = 'day'"
      ]
    },
    {
      "cell_type": "markdown",
      "source": [
        "It is possible to download crypto data from other exchanges.  List of available exchanges at CryptoCompare can be found at the following [link;](https://www.cryptocompare.com/exchanges/#/overview) "
      ],
      "metadata": {
        "id": "HdDyxgvH8BRc"
      }
    },
    {
      "cell_type": "markdown",
      "source": [
        "## Downloading crypto data"
      ],
      "metadata": {
        "id": "D-7VPSz9dywQ"
      }
    },
    {
      "cell_type": "markdown",
      "metadata": {
        "id": "-Bu8wNyZ_wba"
      },
      "source": [
        "The [cryptocompare api](https://www.cryptocompare.com/api/#introduction) returns following columns: \"open\", \"high\", \"low\", \"close\", \"volumefrom\", \"volumeto\".\n",
        "\n",
        "Let's download the data and store it to a file."
      ]
    },
    {
      "cell_type": "code",
      "source": [
        "def get_filename(from_symbol, to_symbol, exchange, datetime_interval, download_date):\n",
        "    return '%s_%s_%s_%s_%s.csv' % (from_symbol, to_symbol, exchange, datetime_interval, download_date)\n",
        "\n",
        "\n",
        "def download_data(from_symbol, to_symbol, exchange, datetime_interval):\n",
        "    supported_intervals = {'minute', 'hour', 'day'}\n",
        "    assert datetime_interval in supported_intervals, 'datetime_interval should be one of %s' % supported_intervals\n",
        "\n",
        "    print('Downloading %s trading data for %s / %s from %s' %\n",
        "          (datetime_interval, from_symbol, to_symbol, exchange))\n",
        "    base_url = 'https://min-api.cryptocompare.com/data/histo'\n",
        "    url = '%s%s' % (base_url, datetime_interval)\n",
        "\n",
        "    params = {'fsym': from_symbol, 'tsym': to_symbol,\n",
        "              'limit': 2000, 'aggregate': 1,\n",
        "              'e': exchange}\n",
        "    request = requests.get(url, params=params)\n",
        "    data = request.json()\n",
        "    return data\n",
        "\n",
        "\n",
        "def convert_to_dataframe(data):\n",
        "    df = pd.json_normalize(data, ['Data'])\n",
        "    df['datetime'] = pd.to_datetime(df.time, unit='s')\n",
        "    df = df[['datetime', 'low', 'high', 'open',\n",
        "             'close', 'volumefrom', 'volumeto']]\n",
        "    return df\n",
        "\n",
        "\n",
        "def filter_empty_datapoints(df):\n",
        "    indices = df[df.sum(axis=1) == 0].index\n",
        "    print('Filtering %d empty datapoints' % indices.shape[0])\n",
        "    df = df.drop(indices)\n",
        "    return df"
      ],
      "metadata": {
        "id": "LRJ_d4ALcnaM"
      },
      "execution_count": null,
      "outputs": []
    },
    {
      "cell_type": "code",
      "source": [
        "# downloading ETH data:\n",
        "data = download_data(from_symbol, to_symbol, exchange, datetime_interval)\n",
        "df = convert_to_dataframe(data)\n",
        "df = filter_empty_datapoints(df)\n",
        "\n",
        "current_datetime = datetime.now().date().isoformat()\n",
        "filename = get_filename(from_symbol, to_symbol, exchange, datetime_interval, current_datetime)\n",
        "print('Saving data to %s' % filename)\n",
        "df.to_csv(filename, index=False)"
      ],
      "metadata": {
        "colab": {
          "base_uri": "https://localhost:8080/"
        },
        "id": "iAbjn_pdR2pk",
        "outputId": "59fd08f7-d591-41c2-a64a-eda076ba58ca"
      },
      "execution_count": null,
      "outputs": [
        {
          "output_type": "stream",
          "name": "stdout",
          "text": [
            "Downloading day trading data for ETH / USD from Coinbase\n",
            "Filtering 0 empty datapoints\n",
            "Saving data to ETH_USD_Coinbase_day_2022-10-19.csv\n"
          ]
        },
        {
          "output_type": "stream",
          "name": "stderr",
          "text": [
            "/usr/local/lib/python3.7/dist-packages/ipykernel_launcher.py:31: FutureWarning: Dropping of nuisance columns in DataFrame reductions (with 'numeric_only=None') is deprecated; in a future version this will raise TypeError.  Select only valid columns before calling the reduction.\n"
          ]
        }
      ]
    },
    {
      "cell_type": "markdown",
      "metadata": {
        "id": "2IsJcq3n_wbg"
      },
      "source": [
        "## Reading data\n",
        "\n",
        "We read the data from a file so we don't need to download it again."
      ]
    },
    {
      "cell_type": "code",
      "execution_count": null,
      "metadata": {
        "colab": {
          "base_uri": "https://localhost:8080/"
        },
        "id": "a8OubdAW_wbg",
        "outputId": "9eb37dbe-c48c-438b-f239-1246991634a1"
      },
      "outputs": [
        {
          "output_type": "stream",
          "name": "stdout",
          "text": [
            "Reading data from ETH_USD_Coinbase_day_2022-10-19.csv\n",
            "(2001, 6)\n"
          ]
        }
      ],
      "source": [
        "def read_dataset(filename):\n",
        "    print('Reading data from %s' % filename)\n",
        "    df = pd.read_csv(filename)\n",
        "    df.datetime = pd.to_datetime(df.datetime) # change type from object to datetime\n",
        "    df = df.set_index('datetime') \n",
        "    df = df.sort_index() # sort by datetime\n",
        "    print(df.shape)\n",
        "    return df\n",
        "\n",
        "df = read_dataset(filename)"
      ]
    },
    {
      "cell_type": "markdown",
      "metadata": {
        "id": "V2tS5-mk_wbi"
      },
      "source": [
        "##  Trading strategy\n",
        "\n",
        "A trading strategy is a set of objective rules defining the conditions that must be met for a trade entry and exit to occur. \n",
        "\n",
        "We are going to apply Moving Average Convergence Divergence (MACD) trading strategy, which is a popular indicator used in technical analysis. \n",
        "MACD calculates two moving averages of varying lengths to identify trend direction and duration.\n",
        "Then, it takes the difference in values between those two moving averages (MACD line) \n",
        "and an exponential moving average (signal line) of those moving averages.\n",
        "\n",
        "As we can see in the example below:\n",
        "- exit trade (sell) when MACD line crosses below the MACD signal line,\n",
        "- enter trade (buy) when MACD line crosses above the MACD signal line. \n",
        "\n",
        "![]( http://www.onlinetradingconcepts.com/images/technicalanalysis/MACDbuysellaltNQ.gif \"MACD\")"
      ]
    },
    {
      "cell_type": "markdown",
      "metadata": {
        "id": "o4lu0Kd9_wbl"
      },
      "source": [
        "## Calculate the trading strategy\n",
        "We use [stockstats](https://github.com/jealous/stockstats) package to calculate MACD."
      ]
    },
    {
      "cell_type": "code",
      "source": [
        "!pip install stockstats"
      ],
      "metadata": {
        "colab": {
          "base_uri": "https://localhost:8080/"
        },
        "id": "gEcB4W_oaik0",
        "outputId": "510a1bfb-a644-4b3f-b50c-40b48de6ae57"
      },
      "execution_count": null,
      "outputs": [
        {
          "output_type": "stream",
          "name": "stdout",
          "text": [
            "Looking in indexes: https://pypi.org/simple, https://us-python.pkg.dev/colab-wheels/public/simple/\n",
            "Requirement already satisfied: stockstats in /usr/local/lib/python3.7/dist-packages (0.4.1)\n",
            "Requirement already satisfied: pandas>=0.24.2 in /usr/local/lib/python3.7/dist-packages (from stockstats) (1.3.5)\n",
            "Requirement already satisfied: python-dateutil>=2.7.3 in /usr/local/lib/python3.7/dist-packages (from pandas>=0.24.2->stockstats) (2.8.2)\n",
            "Requirement already satisfied: pytz>=2017.3 in /usr/local/lib/python3.7/dist-packages (from pandas>=0.24.2->stockstats) (2022.4)\n",
            "Requirement already satisfied: numpy>=1.17.3 in /usr/local/lib/python3.7/dist-packages (from pandas>=0.24.2->stockstats) (1.21.6)\n",
            "Requirement already satisfied: six>=1.5 in /usr/local/lib/python3.7/dist-packages (from python-dateutil>=2.7.3->pandas>=0.24.2->stockstats) (1.15.0)\n"
          ]
        }
      ]
    },
    {
      "cell_type": "code",
      "execution_count": null,
      "metadata": {
        "id": "s9_9bybO_wbm"
      },
      "outputs": [],
      "source": [
        "from stockstats import StockDataFrame\n",
        "df = StockDataFrame.retype(df)\n",
        "df['macd'] = df.get('macd') # calculate MACD"
      ]
    },
    {
      "cell_type": "markdown",
      "metadata": {
        "id": "ZE7d_MhW_wbn"
      },
      "source": [
        "stockstats adds the following columns to dataset:\n",
        "- **macd** is MACD line,\n",
        "- **macds** is signal line,\n",
        "- **macdh** is MACD histogram."
      ]
    },
    {
      "cell_type": "code",
      "source": [
        "df.head()"
      ],
      "metadata": {
        "colab": {
          "base_uri": "https://localhost:8080/",
          "height": 231
        },
        "id": "-a3BT4HJPBWk",
        "outputId": "0e57f3d5-b08f-4f8e-fe51-9b3281abf472"
      },
      "execution_count": null,
      "outputs": [
        {
          "output_type": "execute_result",
          "data": {
            "text/plain": [
              "              low   high   open  close  volumefrom     volumeto      macd  \\\n",
              "datetime                                                                    \n",
              "2017-04-28  62.50  74.90  63.67  73.14   439080.81  29764049.64  0.000000   \n",
              "2017-04-29  68.24  74.89  73.14  70.40   242005.37  17346942.58 -0.061474   \n",
              "2017-04-30  70.00  82.90  70.40  80.87   269888.42  20584476.48  0.246344   \n",
              "2017-05-01  72.24  85.21  80.87  79.35   416156.90  33480503.94  0.325429   \n",
              "2017-05-02  75.54  83.07  79.35  77.55   208582.40  16427688.06  0.289925   \n",
              "\n",
              "               macds     macdh  \n",
              "datetime                        \n",
              "2017-04-28  0.000000  0.000000  \n",
              "2017-04-29 -0.034152 -0.027322  \n",
              "2017-04-30  0.080805  0.165539  \n",
              "2017-05-01  0.163672  0.161757  \n",
              "2017-05-02  0.201230  0.088696  "
            ],
            "text/html": [
              "\n",
              "  <div id=\"df-6545ce5b-a556-47bd-875d-df78016da5ba\">\n",
              "    <div class=\"colab-df-container\">\n",
              "      <div>\n",
              "<style scoped>\n",
              "    .dataframe tbody tr th:only-of-type {\n",
              "        vertical-align: middle;\n",
              "    }\n",
              "\n",
              "    .dataframe tbody tr th {\n",
              "        vertical-align: top;\n",
              "    }\n",
              "\n",
              "    .dataframe thead th {\n",
              "        text-align: right;\n",
              "    }\n",
              "</style>\n",
              "<table border=\"1\" class=\"dataframe\">\n",
              "  <thead>\n",
              "    <tr style=\"text-align: right;\">\n",
              "      <th></th>\n",
              "      <th>low</th>\n",
              "      <th>high</th>\n",
              "      <th>open</th>\n",
              "      <th>close</th>\n",
              "      <th>volumefrom</th>\n",
              "      <th>volumeto</th>\n",
              "      <th>macd</th>\n",
              "      <th>macds</th>\n",
              "      <th>macdh</th>\n",
              "    </tr>\n",
              "    <tr>\n",
              "      <th>datetime</th>\n",
              "      <th></th>\n",
              "      <th></th>\n",
              "      <th></th>\n",
              "      <th></th>\n",
              "      <th></th>\n",
              "      <th></th>\n",
              "      <th></th>\n",
              "      <th></th>\n",
              "      <th></th>\n",
              "    </tr>\n",
              "  </thead>\n",
              "  <tbody>\n",
              "    <tr>\n",
              "      <th>2017-04-28</th>\n",
              "      <td>62.50</td>\n",
              "      <td>74.90</td>\n",
              "      <td>63.67</td>\n",
              "      <td>73.14</td>\n",
              "      <td>439080.81</td>\n",
              "      <td>29764049.64</td>\n",
              "      <td>0.000000</td>\n",
              "      <td>0.000000</td>\n",
              "      <td>0.000000</td>\n",
              "    </tr>\n",
              "    <tr>\n",
              "      <th>2017-04-29</th>\n",
              "      <td>68.24</td>\n",
              "      <td>74.89</td>\n",
              "      <td>73.14</td>\n",
              "      <td>70.40</td>\n",
              "      <td>242005.37</td>\n",
              "      <td>17346942.58</td>\n",
              "      <td>-0.061474</td>\n",
              "      <td>-0.034152</td>\n",
              "      <td>-0.027322</td>\n",
              "    </tr>\n",
              "    <tr>\n",
              "      <th>2017-04-30</th>\n",
              "      <td>70.00</td>\n",
              "      <td>82.90</td>\n",
              "      <td>70.40</td>\n",
              "      <td>80.87</td>\n",
              "      <td>269888.42</td>\n",
              "      <td>20584476.48</td>\n",
              "      <td>0.246344</td>\n",
              "      <td>0.080805</td>\n",
              "      <td>0.165539</td>\n",
              "    </tr>\n",
              "    <tr>\n",
              "      <th>2017-05-01</th>\n",
              "      <td>72.24</td>\n",
              "      <td>85.21</td>\n",
              "      <td>80.87</td>\n",
              "      <td>79.35</td>\n",
              "      <td>416156.90</td>\n",
              "      <td>33480503.94</td>\n",
              "      <td>0.325429</td>\n",
              "      <td>0.163672</td>\n",
              "      <td>0.161757</td>\n",
              "    </tr>\n",
              "    <tr>\n",
              "      <th>2017-05-02</th>\n",
              "      <td>75.54</td>\n",
              "      <td>83.07</td>\n",
              "      <td>79.35</td>\n",
              "      <td>77.55</td>\n",
              "      <td>208582.40</td>\n",
              "      <td>16427688.06</td>\n",
              "      <td>0.289925</td>\n",
              "      <td>0.201230</td>\n",
              "      <td>0.088696</td>\n",
              "    </tr>\n",
              "  </tbody>\n",
              "</table>\n",
              "</div>\n",
              "      <button class=\"colab-df-convert\" onclick=\"convertToInteractive('df-6545ce5b-a556-47bd-875d-df78016da5ba')\"\n",
              "              title=\"Convert this dataframe to an interactive table.\"\n",
              "              style=\"display:none;\">\n",
              "        \n",
              "  <svg xmlns=\"http://www.w3.org/2000/svg\" height=\"24px\"viewBox=\"0 0 24 24\"\n",
              "       width=\"24px\">\n",
              "    <path d=\"M0 0h24v24H0V0z\" fill=\"none\"/>\n",
              "    <path d=\"M18.56 5.44l.94 2.06.94-2.06 2.06-.94-2.06-.94-.94-2.06-.94 2.06-2.06.94zm-11 1L8.5 8.5l.94-2.06 2.06-.94-2.06-.94L8.5 2.5l-.94 2.06-2.06.94zm10 10l.94 2.06.94-2.06 2.06-.94-2.06-.94-.94-2.06-.94 2.06-2.06.94z\"/><path d=\"M17.41 7.96l-1.37-1.37c-.4-.4-.92-.59-1.43-.59-.52 0-1.04.2-1.43.59L10.3 9.45l-7.72 7.72c-.78.78-.78 2.05 0 2.83L4 21.41c.39.39.9.59 1.41.59.51 0 1.02-.2 1.41-.59l7.78-7.78 2.81-2.81c.8-.78.8-2.07 0-2.86zM5.41 20L4 18.59l7.72-7.72 1.47 1.35L5.41 20z\"/>\n",
              "  </svg>\n",
              "      </button>\n",
              "      \n",
              "  <style>\n",
              "    .colab-df-container {\n",
              "      display:flex;\n",
              "      flex-wrap:wrap;\n",
              "      gap: 12px;\n",
              "    }\n",
              "\n",
              "    .colab-df-convert {\n",
              "      background-color: #E8F0FE;\n",
              "      border: none;\n",
              "      border-radius: 50%;\n",
              "      cursor: pointer;\n",
              "      display: none;\n",
              "      fill: #1967D2;\n",
              "      height: 32px;\n",
              "      padding: 0 0 0 0;\n",
              "      width: 32px;\n",
              "    }\n",
              "\n",
              "    .colab-df-convert:hover {\n",
              "      background-color: #E2EBFA;\n",
              "      box-shadow: 0px 1px 2px rgba(60, 64, 67, 0.3), 0px 1px 3px 1px rgba(60, 64, 67, 0.15);\n",
              "      fill: #174EA6;\n",
              "    }\n",
              "\n",
              "    [theme=dark] .colab-df-convert {\n",
              "      background-color: #3B4455;\n",
              "      fill: #D2E3FC;\n",
              "    }\n",
              "\n",
              "    [theme=dark] .colab-df-convert:hover {\n",
              "      background-color: #434B5C;\n",
              "      box-shadow: 0px 1px 3px 1px rgba(0, 0, 0, 0.15);\n",
              "      filter: drop-shadow(0px 1px 2px rgba(0, 0, 0, 0.3));\n",
              "      fill: #FFFFFF;\n",
              "    }\n",
              "  </style>\n",
              "\n",
              "      <script>\n",
              "        const buttonEl =\n",
              "          document.querySelector('#df-6545ce5b-a556-47bd-875d-df78016da5ba button.colab-df-convert');\n",
              "        buttonEl.style.display =\n",
              "          google.colab.kernel.accessAllowed ? 'block' : 'none';\n",
              "\n",
              "        async function convertToInteractive(key) {\n",
              "          const element = document.querySelector('#df-6545ce5b-a556-47bd-875d-df78016da5ba');\n",
              "          const dataTable =\n",
              "            await google.colab.kernel.invokeFunction('convertToInteractive',\n",
              "                                                     [key], {});\n",
              "          if (!dataTable) return;\n",
              "\n",
              "          const docLinkHtml = 'Like what you see? Visit the ' +\n",
              "            '<a target=\"_blank\" href=https://colab.research.google.com/notebooks/data_table.ipynb>data table notebook</a>'\n",
              "            + ' to learn more about interactive tables.';\n",
              "          element.innerHTML = '';\n",
              "          dataTable['output_type'] = 'display_data';\n",
              "          await google.colab.output.renderOutput(dataTable, element);\n",
              "          const docLink = document.createElement('div');\n",
              "          docLink.innerHTML = docLinkHtml;\n",
              "          element.appendChild(docLink);\n",
              "        }\n",
              "      </script>\n",
              "    </div>\n",
              "  </div>\n",
              "  "
            ]
          },
          "metadata": {},
          "execution_count": 62
        }
      ]
    },
    {
      "cell_type": "markdown",
      "metadata": {
        "id": "uiGN_7bF_wbq"
      },
      "source": [
        "## Visualizing trading strategy \n",
        "\n",
        "We use bokeh interactive charts to plot the data.\n",
        "\n",
        "The line graph shows daily closing prices with candlesticks (zoom in).\n",
        "A candlestick displays the high, low, opening  and closing prices \n",
        "for a specific period. Tradeview has a great blogpost about \n",
        "[candlestick graph](https://www.investopedia.com/terms/c/candlestick.asp).\n",
        "\n",
        "Below the line graph we plot the MACD strategy with MACD line (blue), signal line (orange) and histogram (purple)."
      ]
    },
    {
      "cell_type": "code",
      "execution_count": null,
      "metadata": {
        "scrolled": false,
        "colab": {
          "base_uri": "https://localhost:8080/",
          "height": 616
        },
        "id": "UHakmyxC_wbt",
        "outputId": "a40f091b-2993-4b3a-8db4-8b5ca4fcf8f3"
      },
      "outputs": [
        {
          "output_type": "display_data",
          "data": {
            "application/javascript": [
              "\n",
              "(function(root) {\n",
              "  function now() {\n",
              "    return new Date();\n",
              "  }\n",
              "\n",
              "  var force = true;\n",
              "\n",
              "  if (typeof root._bokeh_onload_callbacks === \"undefined\" || force === true) {\n",
              "    root._bokeh_onload_callbacks = [];\n",
              "    root._bokeh_is_loading = undefined;\n",
              "  }\n",
              "\n",
              "  var JS_MIME_TYPE = 'application/javascript';\n",
              "  var HTML_MIME_TYPE = 'text/html';\n",
              "  var EXEC_MIME_TYPE = 'application/vnd.bokehjs_exec.v0+json';\n",
              "  var CLASS_NAME = 'output_bokeh rendered_html';\n",
              "\n",
              "  /**\n",
              "   * Render data to the DOM node\n",
              "   */\n",
              "  function render(props, node) {\n",
              "    var script = document.createElement(\"script\");\n",
              "    node.appendChild(script);\n",
              "  }\n",
              "\n",
              "  /**\n",
              "   * Handle when an output is cleared or removed\n",
              "   */\n",
              "  function handleClearOutput(event, handle) {\n",
              "    var cell = handle.cell;\n",
              "\n",
              "    var id = cell.output_area._bokeh_element_id;\n",
              "    var server_id = cell.output_area._bokeh_server_id;\n",
              "    // Clean up Bokeh references\n",
              "    if (id != null && id in Bokeh.index) {\n",
              "      Bokeh.index[id].model.document.clear();\n",
              "      delete Bokeh.index[id];\n",
              "    }\n",
              "\n",
              "    if (server_id !== undefined) {\n",
              "      // Clean up Bokeh references\n",
              "      var cmd = \"from bokeh.io.state import curstate; print(curstate().uuid_to_server['\" + server_id + \"'].get_sessions()[0].document.roots[0]._id)\";\n",
              "      cell.notebook.kernel.execute(cmd, {\n",
              "        iopub: {\n",
              "          output: function(msg) {\n",
              "            var id = msg.content.text.trim();\n",
              "            if (id in Bokeh.index) {\n",
              "              Bokeh.index[id].model.document.clear();\n",
              "              delete Bokeh.index[id];\n",
              "            }\n",
              "          }\n",
              "        }\n",
              "      });\n",
              "      // Destroy server and session\n",
              "      var cmd = \"import bokeh.io.notebook as ion; ion.destroy_server('\" + server_id + \"')\";\n",
              "      cell.notebook.kernel.execute(cmd);\n",
              "    }\n",
              "  }\n",
              "\n",
              "  /**\n",
              "   * Handle when a new output is added\n",
              "   */\n",
              "  function handleAddOutput(event, handle) {\n",
              "    var output_area = handle.output_area;\n",
              "    var output = handle.output;\n",
              "\n",
              "    // limit handleAddOutput to display_data with EXEC_MIME_TYPE content only\n",
              "    if ((output.output_type != \"display_data\") || (!Object.prototype.hasOwnProperty.call(output.data, EXEC_MIME_TYPE))) {\n",
              "      return\n",
              "    }\n",
              "\n",
              "    var toinsert = output_area.element.find(\".\" + CLASS_NAME.split(' ')[0]);\n",
              "\n",
              "    if (output.metadata[EXEC_MIME_TYPE][\"id\"] !== undefined) {\n",
              "      toinsert[toinsert.length - 1].firstChild.textContent = output.data[JS_MIME_TYPE];\n",
              "      // store reference to embed id on output_area\n",
              "      output_area._bokeh_element_id = output.metadata[EXEC_MIME_TYPE][\"id\"];\n",
              "    }\n",
              "    if (output.metadata[EXEC_MIME_TYPE][\"server_id\"] !== undefined) {\n",
              "      var bk_div = document.createElement(\"div\");\n",
              "      bk_div.innerHTML = output.data[HTML_MIME_TYPE];\n",
              "      var script_attrs = bk_div.children[0].attributes;\n",
              "      for (var i = 0; i < script_attrs.length; i++) {\n",
              "        toinsert[toinsert.length - 1].firstChild.setAttribute(script_attrs[i].name, script_attrs[i].value);\n",
              "        toinsert[toinsert.length - 1].firstChild.textContent = bk_div.children[0].textContent\n",
              "      }\n",
              "      // store reference to server id on output_area\n",
              "      output_area._bokeh_server_id = output.metadata[EXEC_MIME_TYPE][\"server_id\"];\n",
              "    }\n",
              "  }\n",
              "\n",
              "  function register_renderer(events, OutputArea) {\n",
              "\n",
              "    function append_mime(data, metadata, element) {\n",
              "      // create a DOM node to render to\n",
              "      var toinsert = this.create_output_subarea(\n",
              "        metadata,\n",
              "        CLASS_NAME,\n",
              "        EXEC_MIME_TYPE\n",
              "      );\n",
              "      this.keyboard_manager.register_events(toinsert);\n",
              "      // Render to node\n",
              "      var props = {data: data, metadata: metadata[EXEC_MIME_TYPE]};\n",
              "      render(props, toinsert[toinsert.length - 1]);\n",
              "      element.append(toinsert);\n",
              "      return toinsert\n",
              "    }\n",
              "\n",
              "    /* Handle when an output is cleared or removed */\n",
              "    events.on('clear_output.CodeCell', handleClearOutput);\n",
              "    events.on('delete.Cell', handleClearOutput);\n",
              "\n",
              "    /* Handle when a new output is added */\n",
              "    events.on('output_added.OutputArea', handleAddOutput);\n",
              "\n",
              "    /**\n",
              "     * Register the mime type and append_mime function with output_area\n",
              "     */\n",
              "    OutputArea.prototype.register_mime_type(EXEC_MIME_TYPE, append_mime, {\n",
              "      /* Is output safe? */\n",
              "      safe: true,\n",
              "      /* Index of renderer in `output_area.display_order` */\n",
              "      index: 0\n",
              "    });\n",
              "  }\n",
              "\n",
              "  // register the mime type if in Jupyter Notebook environment and previously unregistered\n",
              "  if (root.Jupyter !== undefined) {\n",
              "    var events = require('base/js/events');\n",
              "    var OutputArea = require('notebook/js/outputarea').OutputArea;\n",
              "\n",
              "    if (OutputArea.prototype.mime_types().indexOf(EXEC_MIME_TYPE) == -1) {\n",
              "      register_renderer(events, OutputArea);\n",
              "    }\n",
              "  }\n",
              "\n",
              "  \n",
              "  if (typeof (root._bokeh_timeout) === \"undefined\" || force === true) {\n",
              "    root._bokeh_timeout = Date.now() + 5000;\n",
              "    root._bokeh_failed_load = false;\n",
              "  }\n",
              "\n",
              "  var NB_LOAD_WARNING = {'data': {'text/html':\n",
              "     \"<div style='background-color: #fdd'>\\n\"+\n",
              "     \"<p>\\n\"+\n",
              "     \"BokehJS does not appear to have successfully loaded. If loading BokehJS from CDN, this \\n\"+\n",
              "     \"may be due to a slow or bad network connection. Possible fixes:\\n\"+\n",
              "     \"</p>\\n\"+\n",
              "     \"<ul>\\n\"+\n",
              "     \"<li>re-rerun `output_notebook()` to attempt to load from CDN again, or</li>\\n\"+\n",
              "     \"<li>use INLINE resources instead, as so:</li>\\n\"+\n",
              "     \"</ul>\\n\"+\n",
              "     \"<code>\\n\"+\n",
              "     \"from bokeh.resources import INLINE\\n\"+\n",
              "     \"output_notebook(resources=INLINE)\\n\"+\n",
              "     \"</code>\\n\"+\n",
              "     \"</div>\"}};\n",
              "\n",
              "  function display_loaded() {\n",
              "    var el = document.getElementById(null);\n",
              "    if (el != null) {\n",
              "      el.textContent = \"BokehJS is loading...\";\n",
              "    }\n",
              "    if (root.Bokeh !== undefined) {\n",
              "      if (el != null) {\n",
              "        el.textContent = \"BokehJS \" + root.Bokeh.version + \" successfully loaded.\";\n",
              "      }\n",
              "    } else if (Date.now() < root._bokeh_timeout) {\n",
              "      setTimeout(display_loaded, 100)\n",
              "    }\n",
              "  }\n",
              "\n",
              "\n",
              "  function run_callbacks() {\n",
              "    try {\n",
              "      root._bokeh_onload_callbacks.forEach(function(callback) {\n",
              "        if (callback != null)\n",
              "          callback();\n",
              "      });\n",
              "    } finally {\n",
              "      delete root._bokeh_onload_callbacks\n",
              "    }\n",
              "    console.debug(\"Bokeh: all callbacks have finished\");\n",
              "  }\n",
              "\n",
              "  function load_libs(css_urls, js_urls, callback) {\n",
              "    if (css_urls == null) css_urls = [];\n",
              "    if (js_urls == null) js_urls = [];\n",
              "\n",
              "    root._bokeh_onload_callbacks.push(callback);\n",
              "    if (root._bokeh_is_loading > 0) {\n",
              "      console.debug(\"Bokeh: BokehJS is being loaded, scheduling callback at\", now());\n",
              "      return null;\n",
              "    }\n",
              "    if (js_urls == null || js_urls.length === 0) {\n",
              "      run_callbacks();\n",
              "      return null;\n",
              "    }\n",
              "    console.debug(\"Bokeh: BokehJS not loaded, scheduling load and callback at\", now());\n",
              "    root._bokeh_is_loading = css_urls.length + js_urls.length;\n",
              "\n",
              "    function on_load() {\n",
              "      root._bokeh_is_loading--;\n",
              "      if (root._bokeh_is_loading === 0) {\n",
              "        console.debug(\"Bokeh: all BokehJS libraries/stylesheets loaded\");\n",
              "        run_callbacks()\n",
              "      }\n",
              "    }\n",
              "\n",
              "    function on_error(url) {\n",
              "      console.error(\"failed to load \" + url);\n",
              "    }\n",
              "\n",
              "    for (let i = 0; i < css_urls.length; i++) {\n",
              "      const url = css_urls[i];\n",
              "      const element = document.createElement(\"link\");\n",
              "      element.onload = on_load;\n",
              "      element.onerror = on_error.bind(null, url);\n",
              "      element.rel = \"stylesheet\";\n",
              "      element.type = \"text/css\";\n",
              "      element.href = url;\n",
              "      console.debug(\"Bokeh: injecting link tag for BokehJS stylesheet: \", url);\n",
              "      document.body.appendChild(element);\n",
              "    }\n",
              "\n",
              "    const hashes = {\"https://cdn.bokeh.org/bokeh/release/bokeh-2.3.3.min.js\": \"dM3QQsP+wXdHg42wTqW85BjZQdLNNIXqlPw/BgKoExPmTG7ZLML4EGqLMfqHT6ON\", \"https://cdn.bokeh.org/bokeh/release/bokeh-tables-2.3.3.min.js\": \"8x57I4YuIfu8XyZfFo0XVr2WAT8EK4rh/uDe3wF7YuW2FNUSNEpJbsPaB1nJ2fz2\", \"https://cdn.bokeh.org/bokeh/release/bokeh-widgets-2.3.3.min.js\": \"3QTqdz9LyAm2i0sG5XTePsHec3UHWwVsrOL68SYRoAXsafvfAyqtQ+h440+qIBhS\"};\n",
              "\n",
              "    for (let i = 0; i < js_urls.length; i++) {\n",
              "      const url = js_urls[i];\n",
              "      const element = document.createElement('script');\n",
              "      element.onload = on_load;\n",
              "      element.onerror = on_error.bind(null, url);\n",
              "      element.async = false;\n",
              "      element.src = url;\n",
              "      if (url in hashes) {\n",
              "        element.crossOrigin = \"anonymous\";\n",
              "        element.integrity = \"sha384-\" + hashes[url];\n",
              "      }\n",
              "      console.debug(\"Bokeh: injecting script tag for BokehJS library: \", url);\n",
              "      document.head.appendChild(element);\n",
              "    }\n",
              "  };\n",
              "\n",
              "  function inject_raw_css(css) {\n",
              "    const element = document.createElement(\"style\");\n",
              "    element.appendChild(document.createTextNode(css));\n",
              "    document.body.appendChild(element);\n",
              "  }\n",
              "\n",
              "  \n",
              "  var js_urls = [\"https://cdn.bokeh.org/bokeh/release/bokeh-2.3.3.min.js\", \"https://cdn.bokeh.org/bokeh/release/bokeh-widgets-2.3.3.min.js\", \"https://cdn.bokeh.org/bokeh/release/bokeh-tables-2.3.3.min.js\"];\n",
              "  var css_urls = [];\n",
              "  \n",
              "\n",
              "  var inline_js = [\n",
              "    function(Bokeh) {\n",
              "      Bokeh.set_log_level(\"info\");\n",
              "    },\n",
              "    function(Bokeh) {\n",
              "    \n",
              "    \n",
              "    }\n",
              "  ];\n",
              "\n",
              "  function run_inline_js() {\n",
              "    \n",
              "    if (root.Bokeh !== undefined || force === true) {\n",
              "      \n",
              "    for (var i = 0; i < inline_js.length; i++) {\n",
              "      inline_js[i].call(root, root.Bokeh);\n",
              "    }\n",
              "    } else if (Date.now() < root._bokeh_timeout) {\n",
              "      setTimeout(run_inline_js, 100);\n",
              "    } else if (!root._bokeh_failed_load) {\n",
              "      console.log(\"Bokeh: BokehJS failed to load within specified timeout.\");\n",
              "      root._bokeh_failed_load = true;\n",
              "    } else if (force !== true) {\n",
              "      var cell = $(document.getElementById(null)).parents('.cell').data().cell;\n",
              "      cell.output_area.append_execute_result(NB_LOAD_WARNING)\n",
              "    }\n",
              "\n",
              "  }\n",
              "\n",
              "  if (root._bokeh_is_loading === 0) {\n",
              "    console.debug(\"Bokeh: BokehJS loaded, going straight to plotting\");\n",
              "    run_inline_js();\n",
              "  } else {\n",
              "    load_libs(css_urls, js_urls, function() {\n",
              "      console.debug(\"Bokeh: BokehJS plotting callback run at\", now());\n",
              "      run_inline_js();\n",
              "    });\n",
              "  }\n",
              "}(window));"
            ],
            "application/vnd.bokehjs_load.v0+json": "\n(function(root) {\n  function now() {\n    return new Date();\n  }\n\n  var force = true;\n\n  if (typeof root._bokeh_onload_callbacks === \"undefined\" || force === true) {\n    root._bokeh_onload_callbacks = [];\n    root._bokeh_is_loading = undefined;\n  }\n\n  \n\n  \n  if (typeof (root._bokeh_timeout) === \"undefined\" || force === true) {\n    root._bokeh_timeout = Date.now() + 5000;\n    root._bokeh_failed_load = false;\n  }\n\n  var NB_LOAD_WARNING = {'data': {'text/html':\n     \"<div style='background-color: #fdd'>\\n\"+\n     \"<p>\\n\"+\n     \"BokehJS does not appear to have successfully loaded. If loading BokehJS from CDN, this \\n\"+\n     \"may be due to a slow or bad network connection. Possible fixes:\\n\"+\n     \"</p>\\n\"+\n     \"<ul>\\n\"+\n     \"<li>re-rerun `output_notebook()` to attempt to load from CDN again, or</li>\\n\"+\n     \"<li>use INLINE resources instead, as so:</li>\\n\"+\n     \"</ul>\\n\"+\n     \"<code>\\n\"+\n     \"from bokeh.resources import INLINE\\n\"+\n     \"output_notebook(resources=INLINE)\\n\"+\n     \"</code>\\n\"+\n     \"</div>\"}};\n\n  function display_loaded() {\n    var el = document.getElementById(null);\n    if (el != null) {\n      el.textContent = \"BokehJS is loading...\";\n    }\n    if (root.Bokeh !== undefined) {\n      if (el != null) {\n        el.textContent = \"BokehJS \" + root.Bokeh.version + \" successfully loaded.\";\n      }\n    } else if (Date.now() < root._bokeh_timeout) {\n      setTimeout(display_loaded, 100)\n    }\n  }\n\n\n  function run_callbacks() {\n    try {\n      root._bokeh_onload_callbacks.forEach(function(callback) {\n        if (callback != null)\n          callback();\n      });\n    } finally {\n      delete root._bokeh_onload_callbacks\n    }\n    console.debug(\"Bokeh: all callbacks have finished\");\n  }\n\n  function load_libs(css_urls, js_urls, callback) {\n    if (css_urls == null) css_urls = [];\n    if (js_urls == null) js_urls = [];\n\n    root._bokeh_onload_callbacks.push(callback);\n    if (root._bokeh_is_loading > 0) {\n      console.debug(\"Bokeh: BokehJS is being loaded, scheduling callback at\", now());\n      return null;\n    }\n    if (js_urls == null || js_urls.length === 0) {\n      run_callbacks();\n      return null;\n    }\n    console.debug(\"Bokeh: BokehJS not loaded, scheduling load and callback at\", now());\n    root._bokeh_is_loading = css_urls.length + js_urls.length;\n\n    function on_load() {\n      root._bokeh_is_loading--;\n      if (root._bokeh_is_loading === 0) {\n        console.debug(\"Bokeh: all BokehJS libraries/stylesheets loaded\");\n        run_callbacks()\n      }\n    }\n\n    function on_error(url) {\n      console.error(\"failed to load \" + url);\n    }\n\n    for (let i = 0; i < css_urls.length; i++) {\n      const url = css_urls[i];\n      const element = document.createElement(\"link\");\n      element.onload = on_load;\n      element.onerror = on_error.bind(null, url);\n      element.rel = \"stylesheet\";\n      element.type = \"text/css\";\n      element.href = url;\n      console.debug(\"Bokeh: injecting link tag for BokehJS stylesheet: \", url);\n      document.body.appendChild(element);\n    }\n\n    const hashes = {\"https://cdn.bokeh.org/bokeh/release/bokeh-2.3.3.min.js\": \"dM3QQsP+wXdHg42wTqW85BjZQdLNNIXqlPw/BgKoExPmTG7ZLML4EGqLMfqHT6ON\", \"https://cdn.bokeh.org/bokeh/release/bokeh-tables-2.3.3.min.js\": \"8x57I4YuIfu8XyZfFo0XVr2WAT8EK4rh/uDe3wF7YuW2FNUSNEpJbsPaB1nJ2fz2\", \"https://cdn.bokeh.org/bokeh/release/bokeh-widgets-2.3.3.min.js\": \"3QTqdz9LyAm2i0sG5XTePsHec3UHWwVsrOL68SYRoAXsafvfAyqtQ+h440+qIBhS\"};\n\n    for (let i = 0; i < js_urls.length; i++) {\n      const url = js_urls[i];\n      const element = document.createElement('script');\n      element.onload = on_load;\n      element.onerror = on_error.bind(null, url);\n      element.async = false;\n      element.src = url;\n      if (url in hashes) {\n        element.crossOrigin = \"anonymous\";\n        element.integrity = \"sha384-\" + hashes[url];\n      }\n      console.debug(\"Bokeh: injecting script tag for BokehJS library: \", url);\n      document.head.appendChild(element);\n    }\n  };\n\n  function inject_raw_css(css) {\n    const element = document.createElement(\"style\");\n    element.appendChild(document.createTextNode(css));\n    document.body.appendChild(element);\n  }\n\n  \n  var js_urls = [\"https://cdn.bokeh.org/bokeh/release/bokeh-2.3.3.min.js\", \"https://cdn.bokeh.org/bokeh/release/bokeh-widgets-2.3.3.min.js\", \"https://cdn.bokeh.org/bokeh/release/bokeh-tables-2.3.3.min.js\"];\n  var css_urls = [];\n  \n\n  var inline_js = [\n    function(Bokeh) {\n      Bokeh.set_log_level(\"info\");\n    },\n    function(Bokeh) {\n    \n    \n    }\n  ];\n\n  function run_inline_js() {\n    \n    if (root.Bokeh !== undefined || force === true) {\n      \n    for (var i = 0; i < inline_js.length; i++) {\n      inline_js[i].call(root, root.Bokeh);\n    }\n    } else if (Date.now() < root._bokeh_timeout) {\n      setTimeout(run_inline_js, 100);\n    } else if (!root._bokeh_failed_load) {\n      console.log(\"Bokeh: BokehJS failed to load within specified timeout.\");\n      root._bokeh_failed_load = true;\n    } else if (force !== true) {\n      var cell = $(document.getElementById(null)).parents('.cell').data().cell;\n      cell.output_area.append_execute_result(NB_LOAD_WARNING)\n    }\n\n  }\n\n  if (root._bokeh_is_loading === 0) {\n    console.debug(\"Bokeh: BokehJS loaded, going straight to plotting\");\n    run_inline_js();\n  } else {\n    load_libs(css_urls, js_urls, function() {\n      console.debug(\"Bokeh: BokehJS plotting callback run at\", now());\n      run_inline_js();\n    });\n  }\n}(window));"
          },
          "metadata": {}
        },
        {
          "output_type": "display_data",
          "data": {
            "text/html": [
              "\n",
              "\n",
              "\n",
              "\n",
              "\n",
              "\n",
              "  <div class=\"bk-root\" id=\"fc45d89e-94ea-4f3b-bc1c-defa41eabd49\" data-root-id=\"2564\"></div>\n"
            ]
          },
          "metadata": {}
        },
        {
          "output_type": "display_data",
          "data": {
            "application/javascript": [
              "(function(root) {\n",
              "  function embed_document(root) {\n",
              "    \n",
              "  var docs_json = {\"e0613d0a-4f33-40e5-b5d9-ae0fca6596dc\":{\"defs\":[],\"roots\":{\"references\":[{\"attributes\":{\"below\":[{\"id\":\"2575\"}],\"center\":[{\"id\":\"2578\"},{\"id\":\"2582\"},{\"id\":\"2631\"}],\"left\":[{\"id\":\"2579\"}],\"renderers\":[{\"id\":\"2600\"},{\"id\":\"2605\"},{\"id\":\"2636\"},{\"id\":\"2668\"},{\"id\":\"2702\"},{\"id\":\"2738\"},{\"id\":\"2743\"},{\"id\":\"2748\"}],\"title\":{\"id\":\"2565\"},\"toolbar\":{\"id\":\"2590\"},\"width\":1000,\"x_range\":{\"id\":\"2567\"},\"x_scale\":{\"id\":\"2571\"},\"y_range\":{\"id\":\"2569\"},\"y_scale\":{\"id\":\"2573\"}},\"id\":\"2564\",\"subtype\":\"Figure\",\"type\":\"Plot\"},{\"attributes\":{\"text\":\"day datapoints from 2022-01-01 00:00 to 2022-10-19 for ETH and USD from Coinbase with MACD strategy\"},\"id\":\"2565\",\"type\":\"Title\"},{\"attributes\":{},\"id\":\"2610\",\"type\":\"AllLabels\"},{\"attributes\":{\"x\":{\"field\":\"x\"},\"y\":{\"field\":\"y\"}},\"id\":\"2598\",\"type\":\"Line\"},{\"attributes\":{},\"id\":\"2612\",\"type\":\"DatetimeTickFormatter\"},{\"attributes\":{\"formatter\":{\"id\":\"2612\"},\"major_label_policy\":{\"id\":\"2613\"},\"ticker\":{\"id\":\"2576\"}},\"id\":\"2575\",\"type\":\"DatetimeAxis\"},{\"attributes\":{},\"id\":\"2854\",\"type\":\"Selection\"},{\"attributes\":{\"data\":{\"x\":{\"__ndarray__\":\"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\",\"dtype\":\"float64\",\"order\":\"little\",\"shape\":[292]},\"y\":{\"__ndarray__\":\"1VhUPoA8VsAyg8+QjAdXwAIXAYwWnlfAthaQEa/qV8AsrnRSJvJYwLFRuRUm2lrAQRJEzTX5XcCXjjxEWQxhwFxh+DyAImPALdolK0w4ZcBhee9mMNVmwCjIbyCHv2fAvv1wyhRjaMCWys71dKBowPJb4IQug2jACWeI+GwVaMDl0O95oLNnwAhPK+E7amfAamviwONMZ8BPb669JmpnwMD6m+R3eWjA1NNkezVUasAxu1DQMURswAW9C8bGSW7A/nlevTUTcMDCfxn8ud1wwINVHG1Yh3HA68XXI1XqccC0iGLJ4QJywIVIijcy4XHAbEzpkC18ccAqXZT0ic5wwBWNkRD+DXDA4SqKMQV9bsCUiDXw0zVswBfKfID6imnAg7/D2DygZsADdkZ4rXxjwOaoKESnX2DACRI8L5ZMWsBOV0dwhKxUwLh8HUzAZFDA/yopP+RbSsCmKr67oOtFwEVi0lKYckLACNgUBkheO8Afr2M5bKUxwGQ7PVDs6CfAHV0VKFS+JcAZFQzIqOopwL8ogcJkKDPAM8+QlmhrPMB741aplvlCwD2kW2xs/EfAmaO2rOCzTMDi+nBylYxPwG5LcUfhdFDA5WKxLec/UcA+hRESitBQwBYchN23wE7AhkNSOaHuSsDe34kFPJNHwJma9rKWT0bAlZlz73wIRsBFF3bwZUFHwOxF3APnxUnAi4/QAWFuTMCWW2ezMJJNwMZw19uilU7AYO1EZSLPT8ATzVVym3ZQwKnf3pT0IVHAh5NCAbGAUcD5gGE6s4JRwMeAu08+oVDAscag92wVTsAbPOhWMiBJwIk5McRlJkPA9JePYQsLO8CPgXbDE0swwCyGFDwsexTAe8UZXYNXG0AA3xfmR9AzQGcT5NNoSUBAEwRXpfaPRkDd9+ud25ZNQOYQfBtbelJADEVAQftMVkARcyyBUuZZQOMen1yQslxACux/qAR5X0CCrjTAc/xgQJiCxd4cM2JAx64G9vdHY0AcT05E2PNjQIR29RuEz2NAVBrYHi09Y0A9iChNc1BiQA6eqq64TmFAVWFLM64mYEBOnnQmO/VcQKW5TUXfRFlAy4fPiBPdVUA8ATigb2BSQDm/eV8zG05AenIy+L0aSEAIzAuVYTFCQHM4KKpOSzpA3ISAbe99MkDGe1WUzC0oQDzLG0H8ixVASe++Ppr597/vJYVUQTYhwI07rAulSS/AuUGxx4jfNMBjBy0zPM47wJvCqgsKDEHA/Ha5//JqQ8CXD2CIjxVGwOBcYvR1d0nAzlxp1U5HTMCZQxTNWkVOwIpGz404F1DA2zBifvtLUMCPHK2X38BQwAbRlvXwhlHA8i5+RGalUsAIBbKQgFdUwCHD3jU/bFfAqeFxkOO1WsB7eceGI/NewEvuTYYd/WHAxvJt8Jl5ZMCvveep66tmwFrET+9sV2jAfCv5FynIacC395qpxs5qwONjaznTz2vAUH7GU8Z5bMDD7fb/vvJswBB9ZGOWLW3Ayb0xlYQKbcAByXKYJcFswN5Bc9c3T2zAhk7fYWDMa8ATiBUdP4JrwDSUNvwZcWvA08Cq1ytTa8CLLyS1MhRrwLwanzFxVGrAd5mF0h5cacB1BZzMJX5owCK7NY6ppWfA6mMXNmTsZsC9qCqkpzNmwDF3PDxLd2XAtiZ6BbGaZMA/WmZBEsFjwCzHH6oC9GLAmuj5eCEwYsBVs+oTYrJhwHklGDsSn2HAmSDFEi/3YcBUka5flvZiwHjrGc2DRmTAqXRF1LucZcAqz+5w7C5nwCRYDpxyumjAuahhl6lNasDGooylLX1rwBPhZxRJTmzAzia+8MHJbMBZU/7OBx9twBNfEJ1gFm3AwQS3d0CZbMBe2CN2Y8BrwKMBD4jEv2rAvJ7yfxCnacBvJ0Mq1pdowCP/Hv6fpGfAbi4S7cTQZsA8bwdHvxRmwOoMNRGIYGXAkhS2p3iqZMDc/qLKYMljwIjObesf12LAQEVk+hLAYcAgRTSd7XtgwPBgvks6Xl7ATB7Oyj3HW8A6YOHcl3ZZwAz9Xu7hq1fA+vGuq816VsDSDmwsWl5VwHIEexAuAVTAVUkfNd1aUsBqlNq85xJQwAN+I8x3GUvAD4wxjYoCRMBxoCugLI04wE3XZ/HYtiLAJKXqqab6FkD8iuK/LVkzQPLO7ELLdz9ACRKFOdVcRUC7mq3MByBJQCMgUuPFiEtAHSEWGWJlTkBpwcCC5gNRQARHOoLI7VJAR2PJuaepVECW74P7RBJWQLVWCbJn9VZAguz3vgtsV0CpEI13E35XQOh+NxiCN1dA3lqWSucyV0DPa8A1ZhtXQI1KoIyc9VZAYp3lkwQKV0BsTqn70OhWQBoUyR5WNFdAdkOGkf3NV0D/U/O+NNNYQOwRpUgGGVpAAUg3vhg1W0BxTPoCAvNbQO4HzChWRFxAdlBruwESXECpqISq8YpbQCQjGQGa01lAFwGme9lDV0Dwi+ttOWxUQNOs6yXdiFFAayfSzGLJTUAP+Jg4APNIQFN5mVIW5URASanNraUAQEANs9Ttglc1QC2Xvk41NyNAA9Eku+zQyr+4RMZJKHohwHukXfkTDi/AJSEm/fhRNMDr1wurers3wCNiEcBNVTrAqUGwdofjO8AI5pPYtgU8wMahost0ITzA+bOvXMYGO8DhbU5y2BA5wHXvHPc4SDXA1YQ58bA9L8D3VPvBPFUiwKxK0U2urQrACXFhDr483b9nza1zvCr3P2iFAiiCmZC/Bqi7pdWLEMCDPNYjqUQiwDXeUvxgijDAxbEfoJteOMCjmW5oq2xAwLAfW9ZJOUXAjjXfk/BtScAM/JlbRPtMwON61xKv8k/Am30iAPE/UcBjBOLTMx9SwA8o+e1JsFLAf0ANsKr0UsCsgPz3P/tSwBp1y2Lm1lLAX4HdIBugUsATVHucOnlSwM+6P1NSJFLARokPqtyEUcBVbLn5l75QwKhaNiG9wU/AEyakh7EYTsCcWk8hap9MwKN5QE5tN0vAr+PW2V8hSsDzWTNkrFJJwAp/biBej0jArzsUwyneR8BaDjCDeCBHwJwT0Y/WgkbAkYxpPzm1RcAU/4qsrJNEwNerWov7akPAk51kFgVmQsA=\",\"dtype\":\"float64\",\"order\":\"little\",\"shape\":[292]}},\"selected\":{\"id\":\"2696\"},\"selection_policy\":{\"id\":\"2695\"}},\"id\":\"2665\",\"type\":\"ColumnDataSource\"},{\"attributes\":{\"mantissas\":[1,2,5],\"max_interval\":500.0,\"num_minor_ticks\":0},\"id\":\"2614\",\"type\":\"AdaptiveTicker\"},{\"attributes\":{},\"id\":\"2853\",\"type\":\"UnionRenderers\"},{\"attributes\":{\"days\":[1,2,3,4,5,6,7,8,9,10,11,12,13,14,15,16,17,18,19,20,21,22,23,24,25,26,27,28,29,30,31]},\"id\":\"2617\",\"type\":\"DaysTicker\"},{\"attributes\":{\"num_minor_ticks\":5,\"tickers\":[{\"id\":\"2614\"},{\"id\":\"2615\"},{\"id\":\"2616\"},{\"id\":\"2617\"},{\"id\":\"2618\"},{\"id\":\"2619\"},{\"id\":\"2620\"},{\"id\":\"2621\"},{\"id\":\"2622\"},{\"id\":\"2623\"},{\"id\":\"2624\"},{\"id\":\"2625\"}]},\"id\":\"2576\",\"type\":\"DatetimeTicker\"},{\"attributes\":{\"data\":{\"x\":{\"__ndarray__\":\"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\",\"dtype\":\"float64\",\"order\":\"little\",\"shape\":[292]},\"y\":{\"__ndarray__\":\"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\",\"dtype\":\"float64\",\"order\":\"little\",\"shape\":[292]}},\"selected\":{\"id\":\"2627\"},\"selection_policy\":{\"id\":\"2626\"}},\"id\":\"2597\",\"type\":\"ColumnDataSource\"},{\"attributes\":{\"days\":[1,15]},\"id\":\"2620\",\"type\":\"DaysTicker\"},{\"attributes\":{\"data_source\":{\"id\":\"2597\"},\"glyph\":{\"id\":\"2598\"},\"hover_glyph\":null,\"muted_glyph\":null,\"nonselection_glyph\":{\"id\":\"2599\"},\"view\":{\"id\":\"2601\"}},\"id\":\"2600\",\"type\":\"GlyphRenderer\"},{\"attributes\":{},\"id\":\"2571\",\"type\":\"LinearScale\"},{\"attributes\":{\"overlay\":{\"id\":\"2589\"}},\"id\":\"2585\",\"type\":\"BoxZoomTool\"},{\"attributes\":{},\"id\":\"2567\",\"type\":\"DataRange1d\"},{\"attributes\":{},\"id\":\"2609\",\"type\":\"BasicTickFormatter\"},{\"attributes\":{\"data_source\":{\"id\":\"2602\"},\"glyph\":{\"id\":\"2603\"},\"hover_glyph\":null,\"muted_glyph\":null,\"nonselection_glyph\":{\"id\":\"2604\"},\"view\":{\"id\":\"2606\"}},\"id\":\"2605\",\"type\":\"GlyphRenderer\"},{\"attributes\":{},\"id\":\"2584\",\"type\":\"WheelZoomTool\"},{\"attributes\":{},\"id\":\"2662\",\"type\":\"Selection\"},{\"attributes\":{},\"id\":\"2856\",\"type\":\"Selection\"},{\"attributes\":{\"source\":{\"id\":\"2602\"}},\"id\":\"2606\",\"type\":\"CDSView\"},{\"attributes\":{\"items\":[{\"id\":\"2632\"},{\"id\":\"2664\"},{\"id\":\"2698\"},{\"id\":\"2734\"}]},\"id\":\"2631\",\"type\":\"Legend\"},{\"attributes\":{},\"id\":\"2569\",\"type\":\"DataRange1d\"},{\"attributes\":{\"active_multi\":null,\"tools\":[{\"id\":\"2583\"},{\"id\":\"2584\"},{\"id\":\"2585\"},{\"id\":\"2586\"},{\"id\":\"2587\"},{\"id\":\"2588\"}]},\"id\":\"2590\",\"type\":\"Toolbar\"},{\"attributes\":{\"months\":[0,2,4,6,8,10]},\"id\":\"2622\",\"type\":\"MonthsTicker\"},{\"attributes\":{\"formatter\":{\"id\":\"2609\"},\"major_label_policy\":{\"id\":\"2610\"},\"ticker\":{\"id\":\"2580\"}},\"id\":\"2579\",\"type\":\"LinearAxis\"},{\"attributes\":{\"base\":60,\"mantissas\":[1,2,5,10,15,20,30],\"max_interval\":1800000.0,\"min_interval\":1000.0,\"num_minor_ticks\":0},\"id\":\"2615\",\"type\":\"AdaptiveTicker\"},{\"attributes\":{},\"id\":\"2588\",\"type\":\"HelpTool\"},{\"attributes\":{},\"id\":\"2586\",\"type\":\"SaveTool\"},{\"attributes\":{\"line_alpha\":0.1,\"x\":{\"field\":\"x\"},\"y\":{\"field\":\"y\"}},\"id\":\"2599\",\"type\":\"Line\"},{\"attributes\":{\"bottom\":{\"field\":\"bottom\"},\"fill_alpha\":{\"value\":0.1},\"fill_color\":{\"value\":\"purple\"},\"line_alpha\":{\"value\":0.1},\"line_color\":{\"value\":\"purple\"},\"top\":{\"field\":\"top\"},\"width\":{\"value\":4},\"x\":{\"field\":\"x\"}},\"id\":\"2701\",\"type\":\"VBar\"},{\"attributes\":{\"data\":{\"bottom\":[0,0,0,0,0,0,0,0,0,0,0,0,0,0,0,0,0,0,0,0,0,0,0,0,0,0,0,0,0,0,0,0,0,0,0,0,0,0,0,0,0,0,0,0,0,0,0,0,0,0,0,0,0,0,0,0,0,0,0,0,0,0,0,0,0,0,0,0,0,0,0,0,0,0,0,0,0,0,0,0,0,0,0,0,0,0,0,0,0,0,0,0,0,0,0,0,0,0,0,0,0,0,0,0,0,0,0,0,0,0,0,0,0,0,0,0,0,0,0,0,0,0,0,0,0,0,0,0,0,0,0,0,0,0,0,0,0,0,0,0,0,0,0,0,0,0,0,0,0,0,0,0,0,0,0,0,0,0,0,0,0,0,0,0,0,0,0,0,0,0,0,0,0,0,0,0,0,0,0,0,0,0,0,0,0,0,0,0,0,0,0,0,0,0,0,0,0,0,0,0,0,0,0,0,0,0,0,0,0,0,0,0,0,0,0,0,0,0,0,0,0,0,0,0,0,0,0,0,0,0,0,0,0,0,0,0,0,0,0,0,0,0,0,0,0,0,0,0,0,0,0,0,0,0,0,0,0,0,0,0,0,0,0,0,0,0,0,0,0,0,0,0,0,0,0,0,0,0,0,0,0,0,0,0,0,0,0,0,0,0,0,0],\"top\":{\"__ndarray__\":\"LE9wGCbsNcBwS2VPimEpwPB5MmY/0SLAoOy/YyEmE8BQd0kOdHcwwDw4SjT8fz7AfgRWvH34SMCyK9Ts8n1QwCiW3sU3sVDAhsZrcV+uUMA885m8Q85JwMDYCTDXSj3AkLImQLVxNMBAa+auFbAewICkbu5wRg1AkDr9FWNwK0BQiSWmH3MoQIB3IDEmWSJAgJ7jSCBYDUBA5APM/EINwAC32G4S9UDAMJGNbNmrTcC8db5Oxf9OwJYO2K2nLFDAUG8TS0vKTcBwuGDXh1BJwCi4WiDOM0XA0Bncri2/OMAAycKKpYwYwKAXIOzI1yBAQAY/qClBOUBQ6J2Kc7RFQKgCWoB8EUhAhPSO+W7vSUBoEqUKijlSQO7zxX3LVlVAplTIPe1VV0AGTOoDexxZQOxo7qAx6FhACf9UZOHKWUDu6tL7RoBWQFhqp5AQH1FAvzlHZHG2SUBmAawNDsFBQApDXkdDyDtABNkfP9ENQ0DQUWKZt3FDQLJFFEXYwzZAOvI+QcFUEUDn39p/UrEgwMF47HlBzDjA5kwfqAeGQsCF7zl4iQ9DwAMDEwxXC0TAZ/1rAdHdQsA8utItpsU2wJC/GcfR0iXA2O4CyLxgKcDgaffnRtcbQCxz9zTiAjdAjMSOIbWQPkA8HUOeKds6QGRUNClVOiRAUEHA4HDGAUDs2icQkI4jwCh1MZsIJDTA6kyi789DNcCowGwZ+zwiwOhSAYciNyDAgMnXlviXI8BozGr2R+EhwLhSIlEkayXAkPfsGBuvF8AAjmv3yBHAvzgGwFSdLixA4taxPn1oOUBbKuKC6tRDQEkK3Eoy50dAOralTYCDRkDILDI8739FQAbA4miRWEZA0SWXzFfpR0BA26IdzvRJQJmPYIMThUlArcLLRTcaSUAjz1PikxtMQLSnMGRqd01AKKEhLgGVTkAecGH/ucpMQHpeldvuYUZALGkGX6IzRkC4h0u/Fv9DQGBBDemRakNA5MISdLFNQUCgCvTICXw1QIBMbCwUKhLAIIaro99KMsDoQvI1Opc9wPii3uepG0DAlMvztaeAQsDcIhEBCsFKwEolNwnfgk3A1o7x410+S8B4NLxEH+VLwPkM2YOvlkrA+jIdndUBSMDImZqMcaVHwDq/3v/oLkTAXM6e8nw1P8DjG1eNJJw5wE8sj+eczzrAC4fL0GKKO8AIkFoZHG48wDorTm7HJjzAx49sB9nqNMCdFu+tzbo7wEr3oZBfJznACKN1oEf3MsDSxDRF5FQ1wEBqEmAzDzvAZP83CMd+NsCcbK56v+AvwLCXpOhkkS7AoCh1SXhhCsAQ7bpSBjkdwNCONr0rwijAuN517lTnMcBgYT3DpCE7wL7wZSn1pUjALvSY1CJNSsBFX1bZ//RQwGqMURdeHFTA1CMAUePjU8BCV87LjZJRwJhqgFYUuErAEHKWisILR8Ckwxwa2WlAwLTCBv3IEEDAgE1jS2M+NcDQ3BsMKz4uwACmx7axax3AIKNfGeeIEUAQMr0vv1ciQODI4T9weyxAMGt+su5aMEAwnXEyUYgiQADf894gJQFAwGLTiyTuDUBgpEhDkXwfQOCZonAw+DdAuCgw40sKP0BogDK9IL87QJBKycyHDztAEOfKA6soN0CoZZc9khc3QIgxxv2MizdAcA9K2EaTO0D4jnmC2DM7QGBi0ujyoTlAUNK7JCZ8OEBQUc1D2W8vQEDcjdLYTwNA8Mc+6zUHJsBgFy6d6ew/wECitdbW/kTA/JK4coBjRcD4p5XKCSNJwJCP+LFiuEjAPAk1tW8zScCooK/iQPhCwKjJZ9ttIzrAoG6RFTfeLsBwIguQd1ElwICN6NtjTvE/kJRWVglIL0BwjGUyoBs7QMxrTeHuCUBAcC7GgUCLQUDcdPdapfNAQJgJhYTFZj5AsBaaIWJ7OkBg5lfBtIA3QFBKTLrmhjZAEAvfL+3BNkDgtmKi+yI8QIAKpuYbSD5AgJSYEM9wQUAAAgDTVUJEQIBKUXUHzURAGBWCB+S3RECU8GVvL4VCQPAyJuheqzxAKLEAK0QRM0CIMi70N8cxQAimEL/B0jVA1LG7tQ1lOkBUpyXCqz9CQEOrRrZeMURAz8fH+7RbTEBY72700O9OQJNp706AY05A3CldRiw0TkBiw88qCDVLQOeHFAY7PUhAN6o6YL6DRkCKRUSZlBk+QDorJLXwRTNAxgcgruHkNkCcDVtjVxM9QLBZmPcfnj5AJMTxePO9O0DoxKgb1Ik2QNjjrNBWZCxA4HKlOwOpHUDAJSSVuAfyP4BwZNVXpBHAAC6QhDZr0r/AD+/VFIH3v6ChEJDU5ALAgNNSRQdo9D+AeycezJkAwGBr8cdI4RJAUOulV+40I0CECNHWclMwQNDeG5sYXTRAPGEjWSfBMUD4jWCYKL0nQCDfbnQJVRRAwLxbsDYqCcDI+dQcAuIgwFBYuJZ6dTvAbhCZKwR+RMBAqdNtAL1GwOb4/j/iGkfA68gU/F0hRcBvveRQillDwPP6/ZenN0DAKUAvk8KRQ8AGP43bkFNFwOvO6ozQd0fAbyqrAXmiQ8BysdmW5A5BwIK/Ll/XJzvAmzvdAbwrM8Aqti1vDUwrwLpRLKiYziTAXPjtaZvjGMAAL9LxsBfhv4C+uw7zvdu/5Nwu7+aqEUCEYRSm3l4fQGrzi9n7RC5AKrQA+oGlNkC8X3xe6NA5QJYEDl2iUzdAiBwFjBYGJ0CmKUb363keQHvXTXwibRfAfqWTIzx7MMD+0PChfP0zwMv/nqkxoD3AO04zj+pQP8D9AnthdvVAwDAYsrd5MkPAclcQ9prSQMDoM9Y9nmo8wLr267lVuzfAlAJsa5dpNMDo2PB3WugrwIh15ELDIiLAEBwGhTAYEcAAtAC9H1Xav0DJhZjKLAJA4N359qBlC0BgphYxQnADQPBQ5k4SOhVAMDEGJrXuI0AonsMKlsgoQCDgxyMttytATEkjmbmQKkBwt0xldpQnQIwP7jDNfyZAPF+ZRtdgIUCYN3G0btYZQFBdm3jIaRhAeGtIq4smFkDQqoX8J7YXQOBX32s+tBNAiOHwDKqzGUDQ1+gtyRgiQNwzBRMSiyJATORgT2dPIEA=\",\"dtype\":\"float64\",\"order\":\"little\",\"shape\":[292]},\"x\":{\"__ndarray__\":\"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\",\"dtype\":\"float64\",\"order\":\"little\",\"shape\":[292]}},\"selected\":{\"id\":\"2732\"},\"selection_policy\":{\"id\":\"2731\"}},\"id\":\"2699\",\"type\":\"ColumnDataSource\"},{\"attributes\":{},\"id\":\"2587\",\"type\":\"ResetTool\"},{\"attributes\":{\"bottom\":{\"field\":\"bottom\"},\"fill_color\":{\"value\":\"purple\"},\"line_color\":{\"value\":\"purple\"},\"top\":{\"field\":\"top\"},\"width\":{\"value\":4},\"x\":{\"field\":\"x\"}},\"id\":\"2700\",\"type\":\"VBar\"},{\"attributes\":{},\"id\":\"2626\",\"type\":\"UnionRenderers\"},{\"attributes\":{\"line_color\":\"orange\",\"x\":{\"field\":\"x\"},\"y\":{\"field\":\"y\"}},\"id\":\"2666\",\"type\":\"Line\"},{\"attributes\":{\"base\":24,\"mantissas\":[1,2,4,6,8,12],\"max_interval\":43200000.0,\"min_interval\":3600000.0,\"num_minor_ticks\":0},\"id\":\"2616\",\"type\":\"AdaptiveTicker\"},{\"attributes\":{},\"id\":\"2695\",\"type\":\"UnionRenderers\"},{\"attributes\":{},\"id\":\"2625\",\"type\":\"YearsTicker\"},{\"attributes\":{},\"id\":\"2855\",\"type\":\"UnionRenderers\"},{\"attributes\":{},\"id\":\"2580\",\"type\":\"BasicTicker\"},{\"attributes\":{\"source\":{\"id\":\"2665\"}},\"id\":\"2669\",\"type\":\"CDSView\"},{\"attributes\":{\"label\":{\"value\":\"ETH / USD\"},\"renderers\":[{\"id\":\"2605\"}]},\"id\":\"2632\",\"type\":\"LegendItem\"},{\"attributes\":{\"days\":[1,4,7,10,13,16,19,22,25,28]},\"id\":\"2618\",\"type\":\"DaysTicker\"},{\"attributes\":{},\"id\":\"2573\",\"type\":\"LinearScale\"},{\"attributes\":{},\"id\":\"2629\",\"type\":\"Selection\"},{\"attributes\":{\"days\":[1,8,15,22]},\"id\":\"2619\",\"type\":\"DaysTicker\"},{\"attributes\":{\"x\":{\"field\":\"x\"},\"y\":{\"value\":0}},\"id\":\"2603\",\"type\":\"Line\"},{\"attributes\":{\"source\":{\"id\":\"2699\"}},\"id\":\"2703\",\"type\":\"CDSView\"},{\"attributes\":{\"months\":[0,1,2,3,4,5,6,7,8,9,10,11]},\"id\":\"2621\",\"type\":\"MonthsTicker\"},{\"attributes\":{\"data_source\":{\"id\":\"2699\"},\"glyph\":{\"id\":\"2700\"},\"hover_glyph\":null,\"muted_glyph\":null,\"nonselection_glyph\":{\"id\":\"2701\"},\"view\":{\"id\":\"2703\"}},\"id\":\"2702\",\"type\":\"GlyphRenderer\"},{\"attributes\":{},\"id\":\"2852\",\"type\":\"Selection\"},{\"attributes\":{\"label\":{\"value\":\"signal line\"},\"renderers\":[{\"id\":\"2668\"}]},\"id\":\"2698\",\"type\":\"LegendItem\"},{\"attributes\":{\"source\":{\"id\":\"2597\"}},\"id\":\"2601\",\"type\":\"CDSView\"},{\"attributes\":{\"line_alpha\":0.1,\"line_color\":\"orange\",\"x\":{\"field\":\"x\"},\"y\":{\"field\":\"y\"}},\"id\":\"2667\",\"type\":\"Line\"},{\"attributes\":{\"axis\":{\"id\":\"2575\"},\"ticker\":null},\"id\":\"2578\",\"type\":\"Grid\"},{\"attributes\":{\"months\":[0,6]},\"id\":\"2624\",\"type\":\"MonthsTicker\"},{\"attributes\":{},\"id\":\"2627\",\"type\":\"Selection\"},{\"attributes\":{},\"id\":\"2661\",\"type\":\"UnionRenderers\"},{\"attributes\":{\"axis\":{\"id\":\"2579\"},\"dimension\":1,\"ticker\":null},\"id\":\"2582\",\"type\":\"Grid\"},{\"attributes\":{\"months\":[0,4,8]},\"id\":\"2623\",\"type\":\"MonthsTicker\"},{\"attributes\":{\"data_source\":{\"id\":\"2665\"},\"glyph\":{\"id\":\"2666\"},\"hover_glyph\":null,\"muted_glyph\":null,\"nonselection_glyph\":{\"id\":\"2667\"},\"view\":{\"id\":\"2669\"}},\"id\":\"2668\",\"type\":\"GlyphRenderer\"},{\"attributes\":{},\"id\":\"2613\",\"type\":\"AllLabels\"},{\"attributes\":{},\"id\":\"2583\",\"type\":\"PanTool\"},{\"attributes\":{},\"id\":\"2628\",\"type\":\"UnionRenderers\"},{\"attributes\":{\"source\":{\"id\":\"2745\"}},\"id\":\"2749\",\"type\":\"CDSView\"},{\"attributes\":{\"data_source\":{\"id\":\"2745\"},\"glyph\":{\"id\":\"2746\"},\"hover_glyph\":null,\"muted_glyph\":null,\"nonselection_glyph\":{\"id\":\"2747\"},\"view\":{\"id\":\"2749\"}},\"id\":\"2748\",\"type\":\"GlyphRenderer\"},{\"attributes\":{\"label\":{\"value\":\"MACD line\"},\"renderers\":[{\"id\":\"2636\"}]},\"id\":\"2664\",\"type\":\"LegendItem\"},{\"attributes\":{\"data\":{\"bottom\":{\"__ndarray__\":\"rkfhehRsrUAAAAAAAKarQMP1KFwPnKpAcT0K16P9qEApXI/C9RCoQOxRuB4FF6hA9ihcj8JTqUApXI/C9RWpQIXrUbiesahA16NwPYoaqEB7FK5H4XGnQOxRuB4FEqRAzczMzMzXokAUrkfhehOjQHE9Ctej86JA4XoUrsdVpEC4HoXrUfWkQHE9CtcjX6hAMzMzM7MFqEBcj8L1KOKmQBSuR+H6z6ZASOF6FK5xpkBmZmZm5mioQIXrUbgem6ZAXI/C9Si4pUB7FK5H4ZilQD0K16PwfKRAAAAAAAASpEA9Ctej8CmkQOxRuB4FdKRAhetRuB4Jp0C4HoXrUSOmQHE9CtcjfqRA16NwPYrto0Bcj8L1KHejQD0K16NwYKRApHA9Ctf4o0C4HoXr0aijQHsUrkfhXKZAzczMzExAqECPwvUoXHWqQFyPwvUopqlA9ihcj8LqqkC4HoXrUYGrQAAAAAAAnqpA16NwPQrBqECuR+F6FPGoQJqZmZkZBqlAmpmZmRlHp0DD9Shcj5unQM3MzMzMWKdAhetRuB4KqEB7FK5H4U+nQJqZmZkZJqdAexSuR+HqpkBSuB6F69OmQOxRuB6F8qVAexSuR+EBpkBI4XoULk2lQEjhehSuuKVAj8L1KNx2pUA9CtejcAelQJqZmZmZlaRAMzMzMzOuo0AAAAAAAGmhQI/C9SjcN6BAw/UoXI+JnkC4HoXrUZKfQFK4HoXr351AuB6F61GSnkAK16NwPcyeQLgehetRU55AmpmZmZn6m0C4HoXrUfOaQI/C9ShcUp5AMzMzMzNgnEAAAAAAALWbQMP1KFyPT5xAexSuR+H6m0AzMzMzM+6bQIXrUbge85lAj8L1KFzsl0D2KFyPwmSWQOF6FK5H35JAuB6F61HekkAUrkfhequQQIXrUbgeDY9Aj8L1KFybkUBmZmZmZpORQKRwPQrXY5BA7FG4HoW0kkCuR+F6FJ2SQJqZmZmZ2pFAmpmZmZkskUC4HoXrUbiQQOF6FK5HhpBA16NwPQqtkUD2KFyPwvSSQB+F61G4PpJACtejcD0ekUCPwvUoXDWQQM3MzMzM6JRA7FG4HoUamEAUrkfhesiXQI/C9Shc/5dAAAAAAACDlkAAAAAAAOmaQNejcD0KiJpACtejcD09mkDhehSuR3uZQOF6FK5HS5lAcT0K16MgmUAK16NwPWuaQGZmZmZmnZpAZmZmZmY/nkDD9Shcj62dQOF6FK5HUp1APQrXo3CqnEB7FK5H4SKZQNejcD0Kn5hAKVyPwvXimUCuR+F6FJCXQHsUrkfhTJdA7FG4HoVKlkAK16NwPdOXQPYoXI/CnphAzczMzMxWmECF61G4Hl2YQM3MzMzMm5tApHA9CtfSmkCkcD0K15qYQB+F61G4ApdAUrgehetmlkB7FK5H4dqUQDMzMzMzq5RAmpmZmZl2k0AAAAAAAJWUQOxRuB6FOpRASOF6FK6/lECuR+F6FOCUQM3MzMzMw5RA16NwPQp/lECuR+F6FPSTQFK4HoXrIZVAKVyPwvUglUDD9Shcj8yUQKRwPQrXjpRACtejcD0olED2KFyPwv+TQKRwPQrXG5RAj8L1KFzsk0CF61G4HnuUQHE9CtejNJRA\",\"dtype\":\"float64\",\"order\":\"little\",\"shape\":[153]},\"top\":{\"__ndarray__\":\"CtejcL3prUAAAAAAAJKtQAAAAAAApqtAw/UoXA+cqkBxPQrXo/2oQLgehetRn6hA4XoUrkdbqkBSuB6F6yqqQClcj8L1FalAhetRuJ6xqEDXo3A9ihqoQHsUrkfhcadA7FG4HgUSpEB7FK5HYdqjQAAAAAAAQqNAFK5H4XpXpEC4HoXrUculQOF6FK7Hi6hAPQrXo3BcqUAzMzMzswWoQFyPwvUo4qZAFK5H4frPpkAUrkfheuSoQGZmZmbmaKhAhetRuB6bpkBcj8L1KLilQHsUrkfhmKVAPQrXo/B8pEApXI/C9ZukQFK4HoVruaVAPQrXo3BDp0CF61G4HgmnQLgehetRI6ZA16NwPYrTpEDXo3A9iu2jQDMzMzMzT6VAPQrXo3BgpECamZmZmRKkQLgehetREKdA16NwPQpRqEBSuB6Fa5OqQI/C9ShcdapAKVyPwvUAq0DD9Shcj4WrQLgehetRgatAAAAAAACeqkCF61G4HjepQBSuR+H6dalAmpmZmRkGqUAAAAAAAF6oQDMzMzOz6KdA7FG4HoU8qECF61G4HgqoQHsUrkfhT6dAmpmZmRkmp0B7FK5H4eqmQD0K16NwfqdAuB6F69HvpkB7FK5H4QGmQFK4HoVrUKZAKVyPwvX3pkCPwvUo3HalQD0K16NwB6VAmpmZmZmVpEAzMzMzM66jQOxRuB4FSaJAj8L1KNw3oEB7FK5HYb2gQFK4HoXrUaBA4XoUrkeGn0BI4XoUruOfQJqZmZmZ6J5AuB6F61FTnkCamZmZmfqbQDMzMzMzOZ9Aj8L1KFxSnkDNzMzMzKGcQKRwPQrXCJ1Aw/UoXI9PnEB7FK5H4fqbQDMzMzMz7ptAhetRuB7zmUCPwvUoXOyXQPYoXI/CZJZA4XoUrkffkkDNzMzMzFGTQNejcD0K95BAmpmZmZmbkUCPwvUoXJuRQGZmZmZmk5FAuB6F61Flk0DsUbgehbSSQK5H4XoUnZJAmpmZmZnakUCamZmZmSyRQLgehetRuJBAUrgehev3kUDsUbgehVSTQIXrUbgeA5NAH4XrUbg+kkAK16NwPR6RQM3MzMzMLpVAj8L1KFy1mEDsUbgehRqYQB+F61G4nphAexSuR+H2mED2KFyPwvSaQAAAAAAA6ZpA16NwPQqImkAK16NwPT2aQIXrUbgefZlA4XoUrkdLmUBcj8L1KCObQD0K16NwxZtAAAAAAAADn0BmZmZmZj+eQMP1KFyPrZ1A4XoUrkdSnUCamZmZmdecQHsUrkfhIplAH4XrUbgHmkCuR+F6FH2aQK5H4XoUkJdAexSuR+FMl0CamZmZmT6YQFK4HoXryJhA9ihcj8KemEDXo3A9CkiZQPYoXI/CuptAzczMzMybm0CkcD0K19KaQMP1KFyPnJlAH4XrUbgCl0B7FK5H4fOWQEjhehSugJVAMzMzMzOrlEDhehSuR7uUQAAAAAAAlZRAPQrXo3DilEAfhetRuOOUQK5H4XoU4JRAzczMzMzDlEDXo3A9Cn+UQArXo3A9SJVAUrgeheshlUApXI/C9SCVQMP1KFyPzJRAcT0K16OtlEAK16NwPSiUQLgehetROZRAPQrXo3BBlEApXI/C9c2UQIXrUbgee5RA\",\"dtype\":\"float64\",\"order\":\"little\",\"shape\":[153]},\"x\":{\"__ndarray__\":\"AABAxdPhd0IAAMCQeOJ3QgAAgPbK4ndCAABAXB3jd0IAAADCb+N3QgAAgI0U5HdCAADAvgvld0IAAMBVVeZ3QgAAgLun5ndCAABAIfrmd0IAAACHTOd3QgAAwOye53dCAACAUvHnd0IAAAAeluh3QgAAQE+N6XdCAACAgITqd0IAAMCxe+t3QgAAQBRq7XdCAADA3w7ud0IAAIBFYe53QgAAQKuz7ndCAAAAEQbvd0IAAEBC/e93QgAAAKhP8HdCAADADaLwd0IAAIBz9PB3QgAAQNlG8XdCAAAAP5nxd0IAAIAKPvJ3QgAAgKGH83dCAADA0n70d0IAAIA40fR3QgAAQJ4j9XdCAADAacj1d0IAAIDPGvZ3QgAAwAAS93dCAACAZmT3d0IAAAAyCfh3QgAAQPpJ+ndCAAAA9+X7d0IAAMDzgf13QgAAgFnU/XdCAAAAJXn+d0IAAIDwHf93QgAAQFZw/3dCAAAAvML/d0IAAICHZwB4QgAAAFMMAXhCAADAuF4BeEIAAADqVQJ4QgAAQBtNA3hCAACATEQEeEIAAECylgR4QgAAABjpBHhCAADAfTsFeEIAAIDjjQV4QgAAAK8yBnhCAABA4CkHeEIAAABGfAd4QgAAQHdzCHhCAADAQhgJeEIAAICoagl4QgAAQA69CXhCAAAAdA8KeEIAAMDZYQp4QgAAQKUGC3hCAAAAC1kLeEIAAACiogx4QgAAgG1HDXhCAAAAOewNeEIAAEBq4w54QgAAwDWID3hCAACAm9oPeEIAAEABLRB4QgAAQJh2EXhCAAAA/sgReEIAAIDJbRJ4QgAAgGC3E3hCAABAxgkUeEIAAAAsXBR4QgAAwJGuFHhCAACA9wAVeEIAAEBdUxV4QgAAAMOlFXhCAADAKPgVeEIAAED0nBZ4QgAAwL9BF3hCAABAi+YXeEIAAADxOBh4QgAAwFaLGHhCAADA7dQZeEIAAIBTJxp4QgAAQLl5GnhCAAAAH8waeEIAAMCEHht4QgAAgOpwG3hCAACAgboceEIAAMCysR14QgAAQH5WHnhCAAAA5KgeeEIAAMBJ+x54QgAAgEaXIHhCAAAAEjwheEIAAMB3jiF4QgAAQEMzInhCAACAdCojeEIAAIALdCR4QgAAQHHGJHhCAAAA1xgleEIAAMA8ayV4QgAAQAgQJnhCAAAAbmImeEIAAIA5Byd4QgAAwGr+J3hCAACAZ5opeEIAAEDN7Cl4QgAAADM/KnhCAADAmJEqeEIAAEBkNit4QgAAAMqIK3hCAAAAYdIseEIAAIAsdy14QgAAQJLJLXhCAAAA+BsueEIAAIDDwC54QgAAwPS3L3hCAACAWgoweEIAAMCLATF4QgAAgIidMnhCAABA7u8yeEIAAABUQjN4QgAAgB/nM3hCAABAhTk0eEIAAMBQ3jR4QgAAQByDNXhCAAAAgtU1eEIAAECzzDZ4QgAAABkfN3hCAACA5MM3eEIAAACwaDh4QgAAwBW7OHhCAACAew05eEIAAEDhXzl4QgAAgBJXOnhCAABAeKk6eEIAAADe+zp4QgAAwENOO3hCAABAD/M7eEIAAAB1RTx4QgAAgEDqPHhCAAAADI89eEIAAEA9hj54QgAAAKPYPnhC\",\"dtype\":\"float64\",\"order\":\"little\",\"shape\":[153]}},\"selected\":{\"id\":\"2856\"},\"selection_policy\":{\"id\":\"2855\"}},\"id\":\"2745\",\"type\":\"ColumnDataSource\"},{\"attributes\":{\"bottom\":{\"field\":\"bottom\"},\"fill_color\":{\"value\":\"#F2583E\"},\"top\":{\"field\":\"top\"},\"width\":{\"value\":43200000},\"x\":{\"field\":\"x\"}},\"id\":\"2746\",\"type\":\"VBar\"},{\"attributes\":{},\"id\":\"2851\",\"type\":\"UnionRenderers\"},{\"attributes\":{\"line_alpha\":0.1,\"line_color\":\"blue\",\"x\":{\"field\":\"x\"},\"y\":{\"field\":\"y\"}},\"id\":\"2635\",\"type\":\"Line\"},{\"attributes\":{\"line_alpha\":0.1,\"x\":{\"field\":\"x\"},\"y\":{\"value\":0}},\"id\":\"2604\",\"type\":\"Line\"},{\"attributes\":{\"source\":{\"id\":\"2633\"}},\"id\":\"2637\",\"type\":\"CDSView\"},{\"attributes\":{\"bottom\":{\"field\":\"bottom\"},\"fill_alpha\":{\"value\":0.1},\"fill_color\":{\"value\":\"#D5E1DD\"},\"line_alpha\":{\"value\":0.1},\"top\":{\"field\":\"top\"},\"width\":{\"value\":43200000},\"x\":{\"field\":\"x\"}},\"id\":\"2742\",\"type\":\"VBar\"},{\"attributes\":{\"source\":{\"id\":\"2740\"}},\"id\":\"2744\",\"type\":\"CDSView\"},{\"attributes\":{\"data_source\":{\"id\":\"2740\"},\"glyph\":{\"id\":\"2741\"},\"hover_glyph\":null,\"muted_glyph\":null,\"nonselection_glyph\":{\"id\":\"2742\"},\"view\":{\"id\":\"2744\"}},\"id\":\"2743\",\"type\":\"GlyphRenderer\"},{\"attributes\":{\"bottom_units\":\"screen\",\"fill_alpha\":0.5,\"fill_color\":\"lightgrey\",\"left_units\":\"screen\",\"level\":\"overlay\",\"line_alpha\":1.0,\"line_color\":\"black\",\"line_dash\":[4,4],\"line_width\":2,\"right_units\":\"screen\",\"syncable\":false,\"top_units\":\"screen\"},\"id\":\"2589\",\"type\":\"BoxAnnotation\"},{\"attributes\":{\"data\":{\"x\":{\"__ndarray__\":\"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\",\"dtype\":\"float64\",\"order\":\"little\",\"shape\":[292]}},\"selected\":{\"id\":\"2629\"},\"selection_policy\":{\"id\":\"2628\"}},\"id\":\"2602\",\"type\":\"ColumnDataSource\"},{\"attributes\":{\"bottom\":{\"field\":\"bottom\"},\"fill_color\":{\"value\":\"#D5E1DD\"},\"top\":{\"field\":\"top\"},\"width\":{\"value\":43200000},\"x\":{\"field\":\"x\"}},\"id\":\"2741\",\"type\":\"VBar\"},{\"attributes\":{\"data\":{\"bottom\":{\"__ndarray__\":\"PQrXo3BrrUAK16NwvemtQAAAAAAAkq1AuB6F61GfqEBcj8L1qFGpQOF6FK5HW6pAZmZmZubcqUAK16NwPQCqQFK4HoXrKqpAexSuR2Hao0CPwvUoXDmjQAAAAAAAQqNASOF6FK7lo0AUrkfhelekQD0K16NwA6VAuB6F61HLpUBI4XoULhOlQHsUrkdhbKdAAAAAAACNp0A9CtejcOSnQOF6FK7Hi6hAPQrXo3BcqUDsUbgeBeamQBSuR+F65KhAKVyPwvWbpECkcD0K10qkQNejcD0Ko6VAUrgehWu5pUBcj8L1KNamQD0K16NwQ6dA16NwPYrTpEBcj8L1qO+jQDMzMzMzT6VAmpmZmZkSpEApXI/CdTykQM3MzMxMdqRA4XoUrsetpUCkcD0KV/2lQKRwPQpX9qZAuB6F61EQp0Bcj8L1KJamQOxRuB4FNadAj8L1KNy9p0DXo3A9ClGoQD0K16NwlKhArkfhepTAqUA9Ctej8AyqQFK4HoVrk6pAKVyPwvUAq0DD9Shcj4WrQIXrUbgeN6lAFK5H4fp1qUBxPQrXo6enQAAAAAAAXqhAexSuR2HAp0AzMzMzs+inQHsUrkdh4KdA7FG4HoU8qEA9CtejcH6nQMP1KFyPk6ZAuB6F69HvpkAfhetRuBGmQFK4HoVrUKZAKVyPwvX3pkDsUbgeBUmiQFK4HoXrVZ9AXI/C9agKoEB7FK5HYb2gQFK4HoXrUaBA4XoUrkeGn0DD9Shcj9KeQEjhehSu459AmpmZmZnonkBSuB6F6/ibQGZmZmZmTJxAMzMzMzM5n0DNzMzMzKGcQGZmZmZmLZxAzczMzMwynECkcD0K1widQM3MzMzMUZNA16NwPQr3kECamZmZmZuRQAAAAAAA4JFAexSuR+Ehk0C4HoXrUWWTQD0K16NwppBA7FG4HoXDkEBSuB6F6/eRQD0K16NwhpJA7FG4HoVUk0CF61G4HgOTQNejcD0KaZFAzczMzMyikkBmZmZmZjyTQM3MzMzMLpVAj8L1KFy1mEAfhetRuJ6YQJqZmZmZNJhAexSuR+H2mEDsUbgehaaWQJqZmZmZkZlA9ihcj8L0mkCF61G4Hn2ZQFyPwvUoI5tASOF6FK6RmkA9CtejcMWbQBSuR+F6+JxAXI/C9ShknUBxPQrXo5+eQAAAAAAAA59AmpmZmZnXnECPwvUoXEeZQIXrUbgeY5lAH4XrUbgHmkCuR+F6FH2aQJqZmZmZPphAAAAAAABImEBSuB6F68iYQFyPwvUorJhA16NwPQpImUBI4XoUrneZQFK4HoXrjplApHA9CtfcmkD2KFyPwrqbQMP1KFyPnJlAexSuR+HzlkBI4XoUroCVQB+F61G4uZRA4XoUrke7lEA9CtejcOKUQB+F61G445RACtejcD2tlEAK16NwPUiVQHE9CtejrZRAuB6F61E5lEA9CtejcEGUQFyPwvUoaJRAKVyPwvXNlEA=\",\"dtype\":\"float64\",\"order\":\"little\",\"shape\":[139]},\"top\":{\"__ndarray__\":\"mpmZmZm3rEA9CtejcGutQK5H4XoUbK1AKVyPwvUQqEDsUbgeBReoQFyPwvWoUalA9ihcj8JTqUBmZmZm5typQArXo3A9AKpAzczMzMzXokAUrkfhehOjQI/C9ShcOaNAcT0K16PzokBI4XoUruWjQOF6FK7HVaRAPQrXo3ADpUC4HoXrUfWkQEjhehQuE6VAexSuR2Fsp0AAAAAAAI2nQD0K16Nw5KdAcT0K1yNfqEBI4XoUrnGmQOxRuB4F5qZAAAAAAAASpEA9Ctej8CmkQKRwPQrXSqRA16NwPQqjpUDsUbgeBXSkQFyPwvUo1qZAcT0K1yN+pEBcj8L1KHejQFyPwvWo76NApHA9Ctf4o0C4HoXr0aijQClcj8J1PKRAzczMzEx2pEDhehSux62lQKRwPQpX/aVApHA9Clf2pkB7FK5H4VymQFyPwvUolqZA7FG4HgU1p0CPwvUo3L2nQM3MzMxMQKhAPQrXo3CUqECuR+F6lMCpQD0K16PwDKpAXI/C9SimqUD2KFyPwuqqQNejcD0KwahArkfhehTxqECamZmZGUenQHE9Ctejp6dAw/UoXI+bp0B7FK5HYcCnQM3MzMzMWKdAexSuR2Hgp0BSuB6F69OmQOxRuB6F8qVAw/UoXI+TpkBI4XoULk2lQB+F61G4EaZASOF6FK64pUAAAAAAAGmhQMP1KFyPiZ5AUrgehetVn0Bcj8L1qAqgQLgehetRkp9AUrgehevfnUC4HoXrUZKeQMP1KFyP0p5ACtejcD3MnkC4HoXrUfOaQFK4HoXr+JtAZmZmZmZMnEAzMzMzM2CcQAAAAAAAtZtAZmZmZmYtnEDNzMzMzDKcQLgehetR3pJAFK5H4XqrkECF61G4Hg2PQKRwPQrXY5BAAAAAAADgkUB7FK5H4SGTQOF6FK5HhpBAPQrXo3CmkEDsUbgehcOQQNejcD0KrZFAPQrXo3CGkkD2KFyPwvSSQI/C9ShcNZBA16NwPQppkUDNzMzMzKKSQGZmZmZmPJNAzczMzMzolEAUrkfhesiXQI/C9Shc/5dAmpmZmZk0mEAAAAAAAIOWQOxRuB6FppZAmpmZmZmRmUDhehSuR3uZQHE9CtejIJlACtejcD1rmkBI4XoUrpGaQGZmZmZmnZpAFK5H4Xr4nEBcj8L1KGSdQHE9Ctejn55APQrXo3CqnEDXo3A9Cp+YQI/C9ShcR5lAhetRuB5jmUApXI/C9eKZQOxRuB6FSpZACtejcD3Tl0AAAAAAAEiYQM3MzMzMVphAXI/C9SismECF61G4Hl2YQEjhehSud5lAUrgeheuOmUCkcD0K19yaQKRwPQrXmphAUrgehetmlkB7FK5H4dqUQJqZmZmZdpNAH4XrUbi5lEDsUbgehTqUQEjhehSuv5RArkfhehT0k0AK16NwPa2UQKRwPQrXjpRA9ihcj8L/k0CkcD0K1xuUQI/C9Shc7JNAXI/C9SholEA=\",\"dtype\":\"float64\",\"order\":\"little\",\"shape\":[139]},\"x\":{\"__ndarray__\":\"AADA+S7hd0IAAIBfgeF3QgAAACsm4ndCAADAJ8Ljd0IAAEDzZuR3QgAAAFm55HdCAACAJF7ld0IAAECKsOV3QgAAAPAC5ndCAABAuEPod0IAAMCD6Oh3QgAAgOk66XdCAAAAtd/pd0IAAMAaMup3QgAAQObW6ndCAAAATCnrd0IAAIAXzut3QgAAQH0g7HdCAAAA43Lsd0IAAMBIxex3QgAAgK4X7XdCAAAAerztd0IAAMB2WO93QgAAgNyq73dCAADApOvxd0IAAEBwkPJ3QgAAANbi8ndCAADAOzXzd0IAAEAH2vN3QgAAAG0s9HdCAAAABHb1d0IAAEA1bfZ3QgAAAJu/9ndCAABAzLb3d0IAAMCXW/h3QgAAgP2t+HdCAABAYwD5d0IAAADJUvl3QgAAwC6l+XdCAACAlPf5d0IAAABgnPp3QgAAwMXu+ndCAACAK0H7d0IAAECRk/t3QgAAwFw4/HdCAACAwor8d0IAAEAo3fx3QgAAAI4v/XdCAABAvyb+d0IAAMCKy/53QgAAwCEVAHhCAABA7bkAeEIAAIAesQF4QgAAQIQDAnhCAADAT6gCeEIAAIC1+gJ4QgAAAIGfA3hCAADA5vEDeEIAAEBJ4AV4QgAAwBSFBnhCAACAetcGeEIAAMCrzgd4QgAAgBEhCHhCAAAA3cUIeEIAAIA/tAp4QgAAwHCrC3hCAACA1v0LeEIAAEA8UAx4QgAAwAf1DHhCAABA05kNeEIAAMCePg54QgAAgASRDnhCAAAA0DUPeEIAAABnfxB4QgAAwMzREHhCAACAMiQReEIAAMBjGxJ4QgAAQC/AEnhCAAAAlRITeEIAAMD6ZBN4QgAAgI5KFnhCAAAAWu8WeEIAAIAllBd4QgAAgLzdGHhCAABAIjAZeEIAAACIghl4QgAAQFDDG3hCAAAAthUceEIAAMAbaBx4QgAAQOcMHXhCAAAATV8deEIAAIAYBB54QgAAgK9NH3hCAABAFaAfeEIAAAB78h94QgAAwOBEIHhCAABArOkgeEIAAIDd4CF4QgAAAKmFInhCAADADtgieEIAAEDafCN4QgAAAEDPI3hCAADApSEkeEIAAICivSV4QgAAwNO0JnhCAABAn1kneEIAAAAFrCd4QgAAgNBQKHhCAABANqMoeEIAAACc9Sh4QgAAwAFIKXhCAACA/uMqeEIAAMAv2yt4QgAAgJUtLHhCAABA+38seEIAAMDGJC14QgAAwF1uLnhCAABAKRMveEIAAACPZS94QgAAQMBcMHhCAAAAJq8weEIAAIDxUzF4QgAAQFemMXhCAAAAvfgxeEIAAMAiSzJ4QgAAwLmUM3hCAAAA64s0eEIAAIC2MDV4QgAAwOcnNnhCAACATXo2eEIAAMB+cTd4QgAAQEoWOHhCAAAAR7I5eEIAAMCsBDp4QgAAgKmgO3hCAADA2pc8eEIAAECmPD14QgAAwHHhPXhCAACA1zM+eEI=\",\"dtype\":\"float64\",\"order\":\"little\",\"shape\":[139]}},\"selected\":{\"id\":\"2854\"},\"selection_policy\":{\"id\":\"2853\"}},\"id\":\"2740\",\"type\":\"ColumnDataSource\"},{\"attributes\":{\"line_color\":\"blue\",\"x\":{\"field\":\"x\"},\"y\":{\"field\":\"y\"}},\"id\":\"2634\",\"type\":\"Line\"},{\"attributes\":{\"line_alpha\":{\"value\":0.1},\"x0\":{\"field\":\"x0\"},\"x1\":{\"field\":\"x1\"},\"y0\":{\"field\":\"y0\"},\"y1\":{\"field\":\"y1\"}},\"id\":\"2737\",\"type\":\"Segment\"},{\"attributes\":{\"source\":{\"id\":\"2735\"}},\"id\":\"2739\",\"type\":\"CDSView\"},{\"attributes\":{\"data\":{\"x\":{\"__ndarray__\":\"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\",\"dtype\":\"float64\",\"order\":\"little\",\"shape\":[292]},\"y\":{\"__ndarray__\":\"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\",\"dtype\":\"float64\",\"order\":\"little\",\"shape\":[292]}},\"selected\":{\"id\":\"2662\"},\"selection_policy\":{\"id\":\"2661\"}},\"id\":\"2633\",\"type\":\"ColumnDataSource\"},{\"attributes\":{\"data_source\":{\"id\":\"2735\"},\"glyph\":{\"id\":\"2736\"},\"hover_glyph\":null,\"muted_glyph\":null,\"nonselection_glyph\":{\"id\":\"2737\"},\"view\":{\"id\":\"2739\"}},\"id\":\"2738\",\"type\":\"GlyphRenderer\"},{\"attributes\":{\"data\":{\"x0\":{\"__ndarray__\":\"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\",\"dtype\":\"float64\",\"order\":\"little\",\"shape\":[292]},\"x1\":{\"__ndarray__\":\"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\",\"dtype\":\"float64\",\"order\":\"little\",\"shape\":[292]},\"y0\":{\"__ndarray__\":\"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\",\"dtype\":\"float64\",\"order\":\"little\",\"shape\":[292]},\"y1\":{\"__ndarray__\":\"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\",\"dtype\":\"float64\",\"order\":\"little\",\"shape\":[292]}},\"selected\":{\"id\":\"2852\"},\"selection_policy\":{\"id\":\"2851\"}},\"id\":\"2735\",\"type\":\"ColumnDataSource\"},{\"attributes\":{},\"id\":\"2732\",\"type\":\"Selection\"},{\"attributes\":{\"x0\":{\"field\":\"x0\"},\"x1\":{\"field\":\"x1\"},\"y0\":{\"field\":\"y0\"},\"y1\":{\"field\":\"y1\"}},\"id\":\"2736\",\"type\":\"Segment\"},{\"attributes\":{\"data_source\":{\"id\":\"2633\"},\"glyph\":{\"id\":\"2634\"},\"hover_glyph\":null,\"muted_glyph\":null,\"nonselection_glyph\":{\"id\":\"2635\"},\"view\":{\"id\":\"2637\"}},\"id\":\"2636\",\"type\":\"GlyphRenderer\"},{\"attributes\":{},\"id\":\"2696\",\"type\":\"Selection\"},{\"attributes\":{},\"id\":\"2731\",\"type\":\"UnionRenderers\"},{\"attributes\":{\"bottom\":{\"field\":\"bottom\"},\"fill_alpha\":{\"value\":0.1},\"fill_color\":{\"value\":\"#F2583E\"},\"line_alpha\":{\"value\":0.1},\"top\":{\"field\":\"top\"},\"width\":{\"value\":43200000},\"x\":{\"field\":\"x\"}},\"id\":\"2747\",\"type\":\"VBar\"},{\"attributes\":{\"label\":{\"value\":\"histogram\"},\"renderers\":[{\"id\":\"2702\"}]},\"id\":\"2734\",\"type\":\"LegendItem\"}],\"root_ids\":[\"2564\"]},\"title\":\"Bokeh Application\",\"version\":\"2.3.3\"}};\n",
              "  var render_items = [{\"docid\":\"e0613d0a-4f33-40e5-b5d9-ae0fca6596dc\",\"root_ids\":[\"2564\"],\"roots\":{\"2564\":\"fc45d89e-94ea-4f3b-bc1c-defa41eabd49\"}}];\n",
              "  root.Bokeh.embed.embed_items_notebook(docs_json, render_items);\n",
              "\n",
              "  }\n",
              "  if (root.Bokeh !== undefined) {\n",
              "    embed_document(root);\n",
              "  } else {\n",
              "    var attempts = 0;\n",
              "    var timer = setInterval(function(root) {\n",
              "      if (root.Bokeh !== undefined) {\n",
              "        clearInterval(timer);\n",
              "        embed_document(root);\n",
              "      } else {\n",
              "        attempts++;\n",
              "        if (attempts > 100) {\n",
              "          clearInterval(timer);\n",
              "          console.log(\"Bokeh: ERROR: Unable to run BokehJS code because BokehJS library is missing\");\n",
              "        }\n",
              "      }\n",
              "    }, 10, root)\n",
              "  }\n",
              "})(window);"
            ],
            "application/vnd.bokehjs_exec.v0+json": ""
          },
          "metadata": {
            "application/vnd.bokehjs_exec.v0+json": {
              "id": "2564"
            }
          }
        }
      ],
      "source": [
        "from math import pi\n",
        "\n",
        "from bokeh.plotting import figure, show, output_notebook, output_file\n",
        "output_notebook()\n",
        "\n",
        "datetime_from = '2022-01-01 00:00'\n",
        "datetime_to = current_datetime\n",
        "\n",
        "\n",
        "def get_candlestick_width(datetime_interval):\n",
        "    if datetime_interval == 'minute':\n",
        "        #return 30 * 60 * 1000  # half minute in ms\n",
        "        return 0.5 * 60 * 1000  # half minute in ms\n",
        "    elif datetime_interval == 'hour':\n",
        "        return 0.5 * 60 * 60 * 1000  # half hour in ms\n",
        "    elif datetime_interval == 'day':\n",
        "        return 12 * 60 * 60 * 1000  # half day in ms\n",
        "\n",
        "\n",
        "df_limit = df[datetime_from: datetime_to].copy()\n",
        "inc = df_limit.close > df_limit.open\n",
        "dec = df_limit.open > df_limit.close\n",
        "\n",
        "title = '%s datapoints from %s to %s for %s and %s from %s with MACD strategy' % (\n",
        "    datetime_interval, datetime_from, datetime_to, from_symbol, to_symbol, exchange)\n",
        "p = figure(x_axis_type=\"datetime\",  plot_width=1000, title=title)\n",
        "\n",
        "p.line(df_limit.index, df_limit.close, color='black')\n",
        "\n",
        "# plot macd strategy\n",
        "p.line(df_limit.index, 0, legend_label= '%s / %s' % (from_symbol, to_symbol), color='black')\n",
        "p.line(df_limit.index, df_limit.macd, legend_label=\"MACD line\", color='blue')\n",
        "p.line(df_limit.index, df_limit.macds, legend_label=\"signal line\", color='orange')\n",
        "p.vbar(x=df_limit.index, bottom=[\n",
        "       0 for _ in df_limit.index], top=df_limit.macdh, width=4, legend_label=\"histogram\", color=\"purple\")\n",
        "\n",
        "# plot candlesticks\n",
        "candlestick_width = get_candlestick_width(datetime_interval)\n",
        "p.segment(df_limit.index, df_limit.high,\n",
        "          df_limit.index, df_limit.low, color=\"black\")\n",
        "p.vbar(df_limit.index[inc], candlestick_width, df_limit.open[inc],\n",
        "       df_limit.close[inc], fill_color=\"#D5E1DD\", line_color=\"black\")\n",
        "p.vbar(df_limit.index[dec], candlestick_width, df_limit.open[dec],\n",
        "       df_limit.close[dec], fill_color=\"#F2583E\", line_color=\"black\")\n",
        "\n",
        "output_file(\"visualizing_trading_strategy.html\", title=\"visualizing trading strategy\")\n",
        "show(p)"
      ]
    },
    {
      "cell_type": "markdown",
      "source": [
        "##Extract closing prices"
      ],
      "metadata": {
        "id": "GZQII_Khd8TK"
      }
    },
    {
      "cell_type": "code",
      "source": [
        "df = pd.DataFrame({'ETH': df.close})"
      ],
      "metadata": {
        "id": "RPDqi55KWMcx"
      },
      "execution_count": null,
      "outputs": []
    },
    {
      "cell_type": "code",
      "source": [
        "df.head()"
      ],
      "metadata": {
        "colab": {
          "base_uri": "https://localhost:8080/",
          "height": 231
        },
        "id": "toqQhW4IeO2n",
        "outputId": "16c9c226-f79b-4bc8-b49b-a846e2411752"
      },
      "execution_count": null,
      "outputs": [
        {
          "output_type": "execute_result",
          "data": {
            "text/plain": [
              "              ETH\n",
              "datetime         \n",
              "2017-04-28  73.14\n",
              "2017-04-29  70.40\n",
              "2017-04-30  80.87\n",
              "2017-05-01  79.35\n",
              "2017-05-02  77.55"
            ],
            "text/html": [
              "\n",
              "  <div id=\"df-99e404d9-6ccc-4a42-b07e-37df34f47856\">\n",
              "    <div class=\"colab-df-container\">\n",
              "      <div>\n",
              "<style scoped>\n",
              "    .dataframe tbody tr th:only-of-type {\n",
              "        vertical-align: middle;\n",
              "    }\n",
              "\n",
              "    .dataframe tbody tr th {\n",
              "        vertical-align: top;\n",
              "    }\n",
              "\n",
              "    .dataframe thead th {\n",
              "        text-align: right;\n",
              "    }\n",
              "</style>\n",
              "<table border=\"1\" class=\"dataframe\">\n",
              "  <thead>\n",
              "    <tr style=\"text-align: right;\">\n",
              "      <th></th>\n",
              "      <th>ETH</th>\n",
              "    </tr>\n",
              "    <tr>\n",
              "      <th>datetime</th>\n",
              "      <th></th>\n",
              "    </tr>\n",
              "  </thead>\n",
              "  <tbody>\n",
              "    <tr>\n",
              "      <th>2017-04-28</th>\n",
              "      <td>73.14</td>\n",
              "    </tr>\n",
              "    <tr>\n",
              "      <th>2017-04-29</th>\n",
              "      <td>70.40</td>\n",
              "    </tr>\n",
              "    <tr>\n",
              "      <th>2017-04-30</th>\n",
              "      <td>80.87</td>\n",
              "    </tr>\n",
              "    <tr>\n",
              "      <th>2017-05-01</th>\n",
              "      <td>79.35</td>\n",
              "    </tr>\n",
              "    <tr>\n",
              "      <th>2017-05-02</th>\n",
              "      <td>77.55</td>\n",
              "    </tr>\n",
              "  </tbody>\n",
              "</table>\n",
              "</div>\n",
              "      <button class=\"colab-df-convert\" onclick=\"convertToInteractive('df-99e404d9-6ccc-4a42-b07e-37df34f47856')\"\n",
              "              title=\"Convert this dataframe to an interactive table.\"\n",
              "              style=\"display:none;\">\n",
              "        \n",
              "  <svg xmlns=\"http://www.w3.org/2000/svg\" height=\"24px\"viewBox=\"0 0 24 24\"\n",
              "       width=\"24px\">\n",
              "    <path d=\"M0 0h24v24H0V0z\" fill=\"none\"/>\n",
              "    <path d=\"M18.56 5.44l.94 2.06.94-2.06 2.06-.94-2.06-.94-.94-2.06-.94 2.06-2.06.94zm-11 1L8.5 8.5l.94-2.06 2.06-.94-2.06-.94L8.5 2.5l-.94 2.06-2.06.94zm10 10l.94 2.06.94-2.06 2.06-.94-2.06-.94-.94-2.06-.94 2.06-2.06.94z\"/><path d=\"M17.41 7.96l-1.37-1.37c-.4-.4-.92-.59-1.43-.59-.52 0-1.04.2-1.43.59L10.3 9.45l-7.72 7.72c-.78.78-.78 2.05 0 2.83L4 21.41c.39.39.9.59 1.41.59.51 0 1.02-.2 1.41-.59l7.78-7.78 2.81-2.81c.8-.78.8-2.07 0-2.86zM5.41 20L4 18.59l7.72-7.72 1.47 1.35L5.41 20z\"/>\n",
              "  </svg>\n",
              "      </button>\n",
              "      \n",
              "  <style>\n",
              "    .colab-df-container {\n",
              "      display:flex;\n",
              "      flex-wrap:wrap;\n",
              "      gap: 12px;\n",
              "    }\n",
              "\n",
              "    .colab-df-convert {\n",
              "      background-color: #E8F0FE;\n",
              "      border: none;\n",
              "      border-radius: 50%;\n",
              "      cursor: pointer;\n",
              "      display: none;\n",
              "      fill: #1967D2;\n",
              "      height: 32px;\n",
              "      padding: 0 0 0 0;\n",
              "      width: 32px;\n",
              "    }\n",
              "\n",
              "    .colab-df-convert:hover {\n",
              "      background-color: #E2EBFA;\n",
              "      box-shadow: 0px 1px 2px rgba(60, 64, 67, 0.3), 0px 1px 3px 1px rgba(60, 64, 67, 0.15);\n",
              "      fill: #174EA6;\n",
              "    }\n",
              "\n",
              "    [theme=dark] .colab-df-convert {\n",
              "      background-color: #3B4455;\n",
              "      fill: #D2E3FC;\n",
              "    }\n",
              "\n",
              "    [theme=dark] .colab-df-convert:hover {\n",
              "      background-color: #434B5C;\n",
              "      box-shadow: 0px 1px 3px 1px rgba(0, 0, 0, 0.15);\n",
              "      filter: drop-shadow(0px 1px 2px rgba(0, 0, 0, 0.3));\n",
              "      fill: #FFFFFF;\n",
              "    }\n",
              "  </style>\n",
              "\n",
              "      <script>\n",
              "        const buttonEl =\n",
              "          document.querySelector('#df-99e404d9-6ccc-4a42-b07e-37df34f47856 button.colab-df-convert');\n",
              "        buttonEl.style.display =\n",
              "          google.colab.kernel.accessAllowed ? 'block' : 'none';\n",
              "\n",
              "        async function convertToInteractive(key) {\n",
              "          const element = document.querySelector('#df-99e404d9-6ccc-4a42-b07e-37df34f47856');\n",
              "          const dataTable =\n",
              "            await google.colab.kernel.invokeFunction('convertToInteractive',\n",
              "                                                     [key], {});\n",
              "          if (!dataTable) return;\n",
              "\n",
              "          const docLinkHtml = 'Like what you see? Visit the ' +\n",
              "            '<a target=\"_blank\" href=https://colab.research.google.com/notebooks/data_table.ipynb>data table notebook</a>'\n",
              "            + ' to learn more about interactive tables.';\n",
              "          element.innerHTML = '';\n",
              "          dataTable['output_type'] = 'display_data';\n",
              "          await google.colab.output.renderOutput(dataTable, element);\n",
              "          const docLink = document.createElement('div');\n",
              "          docLink.innerHTML = docLinkHtml;\n",
              "          element.appendChild(docLink);\n",
              "        }\n",
              "      </script>\n",
              "    </div>\n",
              "  </div>\n",
              "  "
            ]
          },
          "metadata": {},
          "execution_count": 65
        }
      ]
    },
    {
      "cell_type": "markdown",
      "source": [
        "##Analysis: Basic Statistics"
      ],
      "metadata": {
        "id": "hLTpWCxhfDEc"
      }
    },
    {
      "cell_type": "code",
      "source": [
        "df.describe()"
      ],
      "metadata": {
        "colab": {
          "base_uri": "https://localhost:8080/",
          "height": 291
        },
        "id": "DqdOj0KKeblq",
        "outputId": "ccc17c6d-6e5d-4ff2-d442-ceebc576a5b3"
      },
      "execution_count": null,
      "outputs": [
        {
          "output_type": "execute_result",
          "data": {
            "text/plain": [
              "               ETH\n",
              "count  2001.000000\n",
              "mean   1037.995682\n",
              "std    1179.603053\n",
              "min      70.400000\n",
              "25%     207.110000\n",
              "50%     388.760000\n",
              "75%    1660.780000\n",
              "max    4811.900000"
            ],
            "text/html": [
              "\n",
              "  <div id=\"df-bc240c2a-e28f-4e23-b4a7-a0998a5186f3\">\n",
              "    <div class=\"colab-df-container\">\n",
              "      <div>\n",
              "<style scoped>\n",
              "    .dataframe tbody tr th:only-of-type {\n",
              "        vertical-align: middle;\n",
              "    }\n",
              "\n",
              "    .dataframe tbody tr th {\n",
              "        vertical-align: top;\n",
              "    }\n",
              "\n",
              "    .dataframe thead th {\n",
              "        text-align: right;\n",
              "    }\n",
              "</style>\n",
              "<table border=\"1\" class=\"dataframe\">\n",
              "  <thead>\n",
              "    <tr style=\"text-align: right;\">\n",
              "      <th></th>\n",
              "      <th>ETH</th>\n",
              "    </tr>\n",
              "  </thead>\n",
              "  <tbody>\n",
              "    <tr>\n",
              "      <th>count</th>\n",
              "      <td>2001.000000</td>\n",
              "    </tr>\n",
              "    <tr>\n",
              "      <th>mean</th>\n",
              "      <td>1037.995682</td>\n",
              "    </tr>\n",
              "    <tr>\n",
              "      <th>std</th>\n",
              "      <td>1179.603053</td>\n",
              "    </tr>\n",
              "    <tr>\n",
              "      <th>min</th>\n",
              "      <td>70.400000</td>\n",
              "    </tr>\n",
              "    <tr>\n",
              "      <th>25%</th>\n",
              "      <td>207.110000</td>\n",
              "    </tr>\n",
              "    <tr>\n",
              "      <th>50%</th>\n",
              "      <td>388.760000</td>\n",
              "    </tr>\n",
              "    <tr>\n",
              "      <th>75%</th>\n",
              "      <td>1660.780000</td>\n",
              "    </tr>\n",
              "    <tr>\n",
              "      <th>max</th>\n",
              "      <td>4811.900000</td>\n",
              "    </tr>\n",
              "  </tbody>\n",
              "</table>\n",
              "</div>\n",
              "      <button class=\"colab-df-convert\" onclick=\"convertToInteractive('df-bc240c2a-e28f-4e23-b4a7-a0998a5186f3')\"\n",
              "              title=\"Convert this dataframe to an interactive table.\"\n",
              "              style=\"display:none;\">\n",
              "        \n",
              "  <svg xmlns=\"http://www.w3.org/2000/svg\" height=\"24px\"viewBox=\"0 0 24 24\"\n",
              "       width=\"24px\">\n",
              "    <path d=\"M0 0h24v24H0V0z\" fill=\"none\"/>\n",
              "    <path d=\"M18.56 5.44l.94 2.06.94-2.06 2.06-.94-2.06-.94-.94-2.06-.94 2.06-2.06.94zm-11 1L8.5 8.5l.94-2.06 2.06-.94-2.06-.94L8.5 2.5l-.94 2.06-2.06.94zm10 10l.94 2.06.94-2.06 2.06-.94-2.06-.94-.94-2.06-.94 2.06-2.06.94z\"/><path d=\"M17.41 7.96l-1.37-1.37c-.4-.4-.92-.59-1.43-.59-.52 0-1.04.2-1.43.59L10.3 9.45l-7.72 7.72c-.78.78-.78 2.05 0 2.83L4 21.41c.39.39.9.59 1.41.59.51 0 1.02-.2 1.41-.59l7.78-7.78 2.81-2.81c.8-.78.8-2.07 0-2.86zM5.41 20L4 18.59l7.72-7.72 1.47 1.35L5.41 20z\"/>\n",
              "  </svg>\n",
              "      </button>\n",
              "      \n",
              "  <style>\n",
              "    .colab-df-container {\n",
              "      display:flex;\n",
              "      flex-wrap:wrap;\n",
              "      gap: 12px;\n",
              "    }\n",
              "\n",
              "    .colab-df-convert {\n",
              "      background-color: #E8F0FE;\n",
              "      border: none;\n",
              "      border-radius: 50%;\n",
              "      cursor: pointer;\n",
              "      display: none;\n",
              "      fill: #1967D2;\n",
              "      height: 32px;\n",
              "      padding: 0 0 0 0;\n",
              "      width: 32px;\n",
              "    }\n",
              "\n",
              "    .colab-df-convert:hover {\n",
              "      background-color: #E2EBFA;\n",
              "      box-shadow: 0px 1px 2px rgba(60, 64, 67, 0.3), 0px 1px 3px 1px rgba(60, 64, 67, 0.15);\n",
              "      fill: #174EA6;\n",
              "    }\n",
              "\n",
              "    [theme=dark] .colab-df-convert {\n",
              "      background-color: #3B4455;\n",
              "      fill: #D2E3FC;\n",
              "    }\n",
              "\n",
              "    [theme=dark] .colab-df-convert:hover {\n",
              "      background-color: #434B5C;\n",
              "      box-shadow: 0px 1px 3px 1px rgba(0, 0, 0, 0.15);\n",
              "      filter: drop-shadow(0px 1px 2px rgba(0, 0, 0, 0.3));\n",
              "      fill: #FFFFFF;\n",
              "    }\n",
              "  </style>\n",
              "\n",
              "      <script>\n",
              "        const buttonEl =\n",
              "          document.querySelector('#df-bc240c2a-e28f-4e23-b4a7-a0998a5186f3 button.colab-df-convert');\n",
              "        buttonEl.style.display =\n",
              "          google.colab.kernel.accessAllowed ? 'block' : 'none';\n",
              "\n",
              "        async function convertToInteractive(key) {\n",
              "          const element = document.querySelector('#df-bc240c2a-e28f-4e23-b4a7-a0998a5186f3');\n",
              "          const dataTable =\n",
              "            await google.colab.kernel.invokeFunction('convertToInteractive',\n",
              "                                                     [key], {});\n",
              "          if (!dataTable) return;\n",
              "\n",
              "          const docLinkHtml = 'Like what you see? Visit the ' +\n",
              "            '<a target=\"_blank\" href=https://colab.research.google.com/notebooks/data_table.ipynb>data table notebook</a>'\n",
              "            + ' to learn more about interactive tables.';\n",
              "          element.innerHTML = '';\n",
              "          dataTable['output_type'] = 'display_data';\n",
              "          await google.colab.output.renderOutput(dataTable, element);\n",
              "          const docLink = document.createElement('div');\n",
              "          docLink.innerHTML = docLinkHtml;\n",
              "          element.appendChild(docLink);\n",
              "        }\n",
              "      </script>\n",
              "    </div>\n",
              "  </div>\n",
              "  "
            ]
          },
          "metadata": {},
          "execution_count": 66
        }
      ]
    },
    {
      "cell_type": "markdown",
      "source": [
        "###Let’s visualize ETH closing price data as box plot\n",
        "\n",
        "We visualize the data in the table above with a box plot. A box plot shows the quartiles of the dataset with points that are determined to be outliers using a method of the inter-quartile range (IQR). In other words, the IQR is the first quartile (25%) subtracted from the third quartile (75%)."
      ],
      "metadata": {
        "id": "Wgy1R9XIfiHy"
      }
    },
    {
      "cell_type": "code",
      "source": [
        "import seaborn as sns\n",
        "ax = sns.boxplot(data=df['ETH'], orient=\"h\")"
      ],
      "metadata": {
        "colab": {
          "base_uri": "https://localhost:8080/",
          "height": 264
        },
        "id": "zP4Hr9qAfWAO",
        "outputId": "23447f3e-32d6-4e79-cabe-a35bc6f741eb"
      },
      "execution_count": null,
      "outputs": [
        {
          "output_type": "display_data",
          "data": {
            "text/plain": [
              "<Figure size 432x288 with 1 Axes>"
            ],
            "image/png": "[encoded data removed]"
          },
          "metadata": {
            "needs_background": "light"
          }
        }
      ]
    },
    {
      "cell_type": "markdown",
      "source": [
        "### Histogram of ETH closing price\n",
        "\n",
        "Let’s estimate the frequency distribution of ETH closing prices. The histogram shows the number of hours ETH had a certain value."
      ],
      "metadata": {
        "id": "tt4z-Y4Ff0QE"
      }
    },
    {
      "cell_type": "code",
      "source": [
        "df['ETH'].hist(bins=30, figsize=(15,10)).axvline(df['ETH'].median(), color='b', linestyle='dashed', linewidth=2)"
      ],
      "metadata": {
        "colab": {
          "base_uri": "https://localhost:8080/",
          "height": 608
        },
        "id": "_6b0Y9P6fdI8",
        "outputId": "cd5b6979-1eab-4bd0-f665-ade428471e4b"
      },
      "execution_count": null,
      "outputs": [
        {
          "output_type": "execute_result",
          "data": {
            "text/plain": [
              "<matplotlib.lines.Line2D at 0x7f6cffa46750>"
            ]
          },
          "metadata": {},
          "execution_count": 68
        },
        {
          "output_type": "display_data",
          "data": {
            "text/plain": [
              "<Figure size 1080x720 with 1 Axes>"
            ],
            "image/png": "[encoded data removed]"
          },
          "metadata": {
            "needs_background": "light"
          }
        }
      ]
    },
    {
      "cell_type": "markdown",
      "source": [
        "### Visualize ETH absolute closing prices"
      ],
      "metadata": {
        "id": "69dKDGwNgbXk"
      }
    },
    {
      "cell_type": "code",
      "source": [
        "df.plot(grid=True, figsize=(15, 10))"
      ],
      "metadata": {
        "colab": {
          "base_uri": "https://localhost:8080/",
          "height": 622
        },
        "id": "fJK3Ooi_gKjh",
        "outputId": "cc863219-c303-4622-ba10-f8cfa1faad4a"
      },
      "execution_count": null,
      "outputs": [
        {
          "output_type": "execute_result",
          "data": {
            "text/plain": [
              "<matplotlib.axes._subplots.AxesSubplot at 0x7f6cff7a9bd0>"
            ]
          },
          "metadata": {},
          "execution_count": 69
        },
        {
          "output_type": "display_data",
          "data": {
            "text/plain": [
              "<Figure size 1080x720 with 1 Axes>"
            ],
            "image/png": "[encoded data removed]"
          },
          "metadata": {
            "needs_background": "light"
          }
        }
      ]
    },
    {
      "cell_type": "code",
      "source": [],
      "metadata": {
        "id": "5ed2Atj7QBYn"
      },
      "execution_count": null,
      "outputs": []
    }
  ],
  "metadata": {
    "kernelspec": {
      "display_name": "Python 3",
      "language": "python",
      "name": "python3"
    },
    "language_info": {
      "codemirror_mode": {
        "name": "ipython",
        "version": 3
      },
      "file_extension": ".py",
      "mimetype": "text/x-python",
      "name": "python",
      "nbconvert_exporter": "python",
      "pygments_lexer": "ipython3",
      "version": "3.5.2"
    },
    "colab": {
      "provenance": [],
      "collapsed_sections": []
    }
  },
  "nbformat": 4,
  "nbformat_minor": 0
}